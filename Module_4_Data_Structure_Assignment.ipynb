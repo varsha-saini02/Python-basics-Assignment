{
  "nbformat": 4,
  "nbformat_minor": 0,
  "metadata": {
    "colab": {
      "provenance": []
    },
    "kernelspec": {
      "name": "python3",
      "display_name": "Python 3"
    },
    "language_info": {
      "name": "python"
    }
  },
  "cells": [
    {
      "cell_type": "markdown",
      "source": [
        "#Theory Questions"
      ],
      "metadata": {
        "id": "8HOAZRQ5bDDO"
      }
    },
    {
      "cell_type": "markdown",
      "source": [
        " 1. What are data structures, and why are they important?\n",
        "\n",
        "  **Ans**: Data structures are specialized formats for organizing, storing, and managing data in a computer's memory. They define how data is structured and how it can be accessed and modified efficiently. In Python, data structures are fundamental building blocks for writing effective and efficient programs.\n",
        "\n",
        "  They are important because of the following reasons:\n",
        "  \n",
        "   *   Efficient Data Management\n",
        "   *   Organization\n",
        "   *   Problem Solving\n",
        "\n",
        "  Data structures are essential for writing efficient, organized, and effective Python code. They provide the tools to store and manage data in a way that best suits the specific needs of your programs.\n",
        "\n",
        " 2. Explain the difference between mutable and immutable data types with examples.\n",
        "\n",
        "  **Ans**: Data types in Python are categorized into mutable and immutable data types. Mutable data types are those whose values can be changed, whereas immutable data types are ones in which the values can't be changed.\n",
        "\n",
        "  Python data type is categorized into two types:\n",
        "\n",
        "  * Mutable Data Type - A mutable data type is one whose values can be    changed.\n",
        "  \n",
        "            Example: List, Dictionaries, and Set\n",
        "  * Immutable Data Type - An immutable data type is one in which the values can't be changed or altered.\n",
        "            Example: String and Tuples\n",
        "\n",
        "E.G.\n",
        "\n",
        "Lists are mutable\n",
        "        \n",
        "               #create a list of student\n",
        "               name = ['Vikram', 'Anshul', 'Amit', 'Suresh']\n",
        "               #add element in the existing list\n",
        "               name.append('Kamal')\n",
        "               #print the result\n",
        "               print(name)\n",
        "\n",
        "Strings are not mutable\n",
        "\n",
        " Once a string is created a new value can be assigned but the current one cannot be modified.\n",
        "\n",
        " 3. What are the main differences between lists and tuples in Python?\n",
        "\n",
        "  Ans: the main differences between lists and tuples in Python are:\n",
        "  * Lists are mutable , Tuples are immutable\n",
        "  * Lists' syntax is [] and tuples' syntax is ()\n",
        "  * List is Slower, more memory-intensive and tuple is Faster, less memory-intensive.\n",
        "  * Use case of List is Dynamic collections of items, for tuple it is Fixed, unchangeable collections.\n",
        "\n",
        " 4. Describe how dictionaries store data.\n",
        "\n",
        "  Ans: Python dictionaries store data as key-value pairs. Each key in a dictionary is unique and maps to a specific value. Keys must be immutable objects, such as strings, numbers, or tuples, while values can be of any data type, including other dictionaries, lists, or even functions.\n",
        "  \n",
        "  Dictionaries are unordered collections, meaning that the items are not stored in any particular sequence. This allows for fast and efficient retrieval of values based on their associated keys. Dictionaries are implemented as hash tables, which provide near-constant time complexity for lookups, insertions, and deletions.\n",
        "  \n",
        "  The syntax for creating a dictionary involves enclosing key-value pairs within curly braces {}.\n",
        "\n",
        " 5. Why might you use a set instead of a list in Python?\n",
        "\n",
        "  Ans: Sets and lists are both used to store collections of items in Python, but they have different characteristics and use cases. Here's why you might choose a set over a list:\n",
        "1. Uniqueness: Sets enforce uniqueness. They do not allow duplicate elements. If you need to ensure that all items in your collection are distinct, a set is the appropriate choice. Lists, on the other hand, allow duplicate elements.\n",
        "2. Unordered: Sets are unordered collections. This means that the elements do not have a specific index or position, and you cannot access them using indices like you would in a list. Lists maintain the order of elements as they are inserted.\n",
        "\n",
        " 6. What is a string in Python, and how is it different from a list?\n",
        "\n",
        "  Ans: A string in Python is a sequence of characters enclosed within single quotes ('hello') or double quotes (\"hello\"). It is used to represent text data such as words, sentences, or symbols. Strings are immutable, which means once created, their contents cannot be changed. On the other hand, a list is a collection of items (which can be of any data type, including strings, numbers, or even other lists) enclosed within square brackets like [1, 2, 3] or ['a', 'b', 'c'].\n",
        "  \n",
        "  Unlike strings, lists are mutable, so you can modify, add, or remove elements after the list is created. While both strings and lists are sequences (they support indexing, slicing, and iteration), their purposes and behaviors are different—strings are specifically for handling text, whereas lists are general-purpose containers.\n",
        "\n",
        " 7. How do tuples ensure data integrity in Python?\n",
        "\n",
        "  Ans: Tuples in Python ensure data integrity primarily through their immutability. Once a tuple is created, its elements cannot be modified, added, or removed. This characteristic is crucial in several ways:\n",
        "1. Prevention of Accidental Changes:\n",
        "Immutability prevents accidental modifications to data, safeguarding it from unintended alterations. This is particularly useful when handling sensitive or critical information that should remain constant.\n",
        "2. Data Consistency:\n",
        "By ensuring that the data within a tuple cannot be changed, tuples maintain consistency throughout the program's execution. This stability is valuable in scenarios where data integrity is paramount.\n",
        "3. Use as Dictionary Keys:\n",
        "Tuples can be used as keys in dictionaries because of their immutability. Dictionaries require keys to be hashable, and immutable objects like tuples fulfill this requirement. This allows for reliable data retrieval based on fixed keys.\n",
        "4. Performance:\n",
        "Due to their fixed nature, tuples are generally faster and more memory-efficient than mutable structures like lists. Python can optimize the storage and access of tuples, making them suitable for large, unchanging datasets.\n",
        "5. Data Representation:\n",
        "Tuples are often used to represent fixed collections of items, such as records or coordinates. Their immutability ensures that these groupings remain intact and consistent.\n",
        "\n",
        " 8. What is a hash table, and how does it relate to dictionaries in Python?\n",
        "\n",
        "  Ans: A hash table is a data structure that stores key-value pairs. It uses a hash function to compute an index into an array, where the value is stored. This allows for fast retrieval of values based on their keys.\n",
        "\n",
        "  In Python, dictionaries are implemented using hash tables. When you create a dictionary, Python uses a hash function to convert the keys into hash values. These hash values are then used as indices to store the corresponding values in an underlying array. This is why dictionaries can quickly look up values based on their keys.\n",
        "\n",
        " 9. Can lists contain different data types in Python.\n",
        "\n",
        "  Ans: Yes, lists in Python can contain different data types. This means a single list can hold a combination of integers, floats, strings, booleans, and even other complex data structures like lists, tuples, or dictionaries.\n",
        "  example:\n",
        "  my_list = [1, \"hello\", 3.14, True, [5, 6]]\n",
        "\n",
        "  print(my_list)\n",
        "\n",
        " 10. Explain why strings are immutable in Python.\n",
        "\n",
        "  Ans: Strings in Python are immutable, which means once a string is created, you cannot change its contents (characters) directly.\n",
        "  1. Efficiency and Memory Optimization\n",
        "      Python stores string values in a way that reuses memory for identical strings (a process called string interning).Immutability ensures that the same string value can be shared safely across the program without worrying about it being changed unexpectedly.\n",
        "  2. Hashability\n",
        "      Immutable objects like strings can be used as keys in dictionaries or elements in sets\n",
        "  3. Thread-Safety\n",
        "      Since strings can’t be changed, they are naturally safe to use in multi-threaded applications, reducing bugs from concurrent modifications.\n",
        "  4. Simplicity and Predictability\n",
        "      Immutability makes code more reliable and easier to debug, because you know a string won't change unless you explicitly create a new one.\n",
        "\n",
        " 11. What advantages do dictionaries offer over lists for certain tasks?\n",
        "\n",
        "  Ans: Dictionaries offer several advantages over lists for certain tasks, especially when it comes to storing and accessing data by a specific label or key. Unlike lists, where elements are accessed using numeric indexes, dictionaries use unique keys, which allows for faster lookups—typically in constant time (O(1)). This makes dictionaries ideal for situations where you need to associate values with identifiers, such as storing user profiles with usernames or counting the frequency of words in a text. Additionally, dictionaries provide a more descriptive and readable structure for your data, making code easier to understand and maintain. They are also more flexible, allowing storage of different data types under meaningful keys rather than relying on positions like in lists.\n",
        "\n",
        " 12. How do sets handle duplicate values in Python?\n",
        "\n",
        "  Ans: In Python, sets automatically eliminate duplicate values. A set is an unordered collection of unique elements, meaning it can't contain the same item more than once. If you try to add a duplicate value to a set, Python will ignore it silently without raising an error.\n",
        "\n",
        "  For example:\n",
        "    my_set = {1, 2, 3, 2, 1}\n",
        "    print(my_set)  # Output: {1, 2, 3}\n",
        "\n",
        "  Even though 1 and 2 appear more than once in the original definition, the set only keeps one copy of each. This feature makes sets useful for tasks like removing duplicates from a list or checking for unique values quickly.\n",
        "\n",
        " 13. Describe a scenario where using a tuple would be preferable over a list.\n",
        "\n",
        "  Ans:A tuple is preferable over a list when you need to store a fixed collection of values that should not change throughout the program. One common scenario is when you're returning multiple values from a function—like coordinates, RGB color codes, or database records—where the structure is fixed and unchangeable.\n",
        "\n",
        "  For example, consider a function that returns the latitude and longitude of a location:\n",
        "\n",
        "    def get_location():\n",
        "  \n",
        "      return (28.6139, 77.2090)  # A tuple representing (latitude, longitude)\n",
        "\n",
        "   In this case, using a tuple is ideal because:\n",
        "\n",
        "* The two values always go together.\n",
        "\n",
        "* Their order and meaning shouldn’t be altered.\n",
        "\n",
        "* It signals to other developers that the data is read-only.\n",
        "\n",
        "   Using a tuple also allows the values to be used as dictionary keys or set elements (because tuples are immutable and hashable, unlike lists). So, anytime you need fixed, unchangeable, ordered data, tuples are the better choice.\n",
        "\n",
        "\n",
        " 14. How does the “in” keyword work differently for lists and dictionaries?\n",
        "\n",
        "  Ans: The in keyword is used to check for membership in Python, but it behaves differently for lists and dictionaries:\n",
        "\n",
        "  my_list = [10, 20, 30]\n",
        "  \n",
        "  print(20 in my_list)  # ✅ True\n",
        "  \n",
        "  print(50 in my_list)  # ❌ False\n",
        "\n",
        "  Here, in looks through the entire list to find the value.\n",
        "\n",
        "  In dictionaries, in checks only for keys, unless you explicitly call .values() or .items().\n",
        "\n",
        "  my_dict = {\"a\": 1, \"b\": 2}\n",
        "   \n",
        "  print(\"a\" in my_dict)      # ✅ True (key exists)\n",
        "\n",
        "  print(1 in my_dict)        # ❌ False (value, not key)\n",
        "\n",
        "\n",
        " 15. Can you modify the elements of a tuple? Explain why or why not.\n",
        "\n",
        "  Ans: No, you cannot modify the elements of a tuple in Python because tuples are immutable. Once a tuple is created, its elements cannot be changed, added, or removed.\n",
        "\n",
        "  This immutability exists because tuples are designed to represent fixed collections of values—like coordinates, dates, or function return values—where changes are not expected or allowed. It also makes tuples more memory-efficient and hashable, meaning they can be used as keys in dictionaries or elements in sets (unlike lists).\n",
        "\n",
        " 16. What is a nested dictionary, and give an example of its use case?\n",
        "\n",
        "  Ans: A nested dictionary is a dictionary inside another dictionary. It allows you to organize data in a hierarchical or structured way, where each key can hold another dictionary as its value.\n",
        "\n",
        "  students = {\n",
        "    \"101\": {\"name\": \"Alice\", \"age\": 20, \"marks\": 88},\n",
        "\n",
        "    \"102\": {\"name\": \"Bob\", \"age\": 21, \"marks\": 92},\n",
        "  }\n",
        "  \n",
        "  A nested dictionary is useful when dealing with structured data, like:\n",
        "* Student records in a school system\n",
        "* Employee databases\n",
        "* JSON-like data from web APIs\n",
        "* Configuration files or settings with grouped options\n",
        "\n",
        " 17. Describe the time complexity of accessing elements in a dictionary.\n",
        "\n",
        "  Ans: The time complexity of accessing elements in a Python dictionary is O(1) on average — also known as constant time.\n",
        "  \n",
        "  This means that no matter how large the dictionary is, retrieving a value by its key (like my_dict[\"key\"]) typically takes the same amount of time. This efficiency comes from how dictionaries are implemented internally using hash tables.\n",
        "\n",
        "  Why is it O(1)?\n",
        "* When you access a value using a key, Python calculates the hash of the key.\n",
        "\n",
        "* This hash points directly to the memory location where the value is stored, allowing for fast lookup without searching through all items.\n",
        "\n",
        "\n",
        " 18. In what situations are lists preferred over dictionaries?\n",
        "\n",
        "  Ans:Lists are preferred over dictionaries in situations where:\n",
        "\n",
        "   * Order Matters: Lists maintain the order of elements, which is useful when you need to access items by their position or preserve insertion order.\n",
        "   * Simple Sequences: When storing a simple collection of values (like a series of numbers, strings, or objects) without needing to associate them with specific keys.\n",
        "   * Iteration by Index: If you need to access or manipulate elements by index using loops.\n",
        "   * Faster Appending: Lists offer efficient appending operations (append()), making them ideal for building a collection of items dynamically\n",
        "   * Memory Efficiency: Lists generally use less memory than dictionaries for storing sequences of data, especially when keys aren't needed.\n",
        "   * Duplicates Are Needed: Lists allow duplicate values, which dictionaries do not (as keys must be unique).\n",
        "\n",
        "\n",
        " 19. Why are dictionaries considered unordered, and how does that affect data retrieval?\n",
        "\n",
        "  Ans: Dictionaries in Python were historically considered unordered because they did not preserve the order of key-value pairs as inserted. Before Python 3.7, the insertion order was not guaranteed — meaning when you retrieved or iterated over items, they could come out in any arbitrary order.\n",
        "\n",
        "    Why They Were Unordered:\n",
        "   * Hashing: Dictionaries use a hash table internally, where keys are mapped to values using hash functions. The focus was on fast lookup, not order.\n",
        "   * Optimization: Hash tables prioritize speed and memory efficiency, not sequence.\n",
        "\n",
        "  Effect on Data Retrieval:\n",
        "  * Unpredictable Order (before Python 3.7): You couldn't rely on the order of items when iterating over a dictionary. This made them unsuitable for tasks where order matters, like ordered display or processing steps.\n",
        "\n",
        "  * No Index Access: Unlike lists, you can't access dictionary items by index — only by key.\n",
        "\n",
        "\n",
        " 20. Explain the difference between a list and a dictionary in terms of data retrieval.\n",
        "\n",
        "  Ans:  \n",
        "    List:\n",
        "    * Indexed Retrieval: Elements are accessed by their position (index) in the list.\n",
        "    * Syntax: my_list[0] retrieves the first element.\n",
        "    * Data Structure: Ordered sequence.\n",
        "    * Lookup Type: Positional lookup (based on numeric index).\n",
        "    * Performance: Access by index is fast (O(1)), but searching for a value is slower (O(n)).\n",
        "\n",
        "  Dictionary:\n",
        "    * Key-Based Retrieval: Elements are accessed using a unique key.\n",
        "    * Syntax: my_dict[\"name\"] retrieves the value associated with \"name\".\n",
        "    * Data Structure: Key-value mapping.\n",
        "    * Lookup Type: Key-based hash lookup.\n",
        "    * Performance: Access by key is very fast (average case O(1)).\n",
        "\n",
        "\n"
      ],
      "metadata": {
        "id": "ot-V6g8jbHGh"
      }
    },
    {
      "cell_type": "markdown",
      "source": [
        "#Practical Questions\n"
      ],
      "metadata": {
        "id": "thQaoVzUinth"
      }
    },
    {
      "cell_type": "code",
      "source": [
        "# Q1.  Write a code to create a string with your name and print it\n",
        "name=\"Varsha\"\n",
        "print(\"My name is:\", name)"
      ],
      "metadata": {
        "colab": {
          "base_uri": "https://localhost:8080/"
        },
        "id": "hw97VUdviRRk",
        "outputId": "abab3b3b-5f5c-4edb-f83d-a0c892ab8f32"
      },
      "execution_count": 3,
      "outputs": [
        {
          "output_type": "stream",
          "name": "stdout",
          "text": [
            "My name is: Varsha\n"
          ]
        }
      ]
    },
    {
      "cell_type": "code",
      "source": [
        "# Q2.  Write a code to find the length of the string \"Hello World\"\n",
        "word=\"Hello World\"\n",
        "length=len(word)\n",
        "print(\"The length of the word is:\",length)"
      ],
      "metadata": {
        "colab": {
          "base_uri": "https://localhost:8080/"
        },
        "id": "ZTRLkMFFjLu_",
        "outputId": "d40b6f59-7212-4060-f005-c0ed49298974"
      },
      "execution_count": 5,
      "outputs": [
        {
          "output_type": "stream",
          "name": "stdout",
          "text": [
            "The length of the word is: 11\n"
          ]
        }
      ]
    },
    {
      "cell_type": "code",
      "source": [
        "# Q3.  Write a code to slice the first 3 characters from the string \"Python Programming\"\n",
        "word=\"Python Programming\"\n",
        "print(word[0:3])"
      ],
      "metadata": {
        "colab": {
          "base_uri": "https://localhost:8080/"
        },
        "id": "Wsr5nKwOi7u4",
        "outputId": "70afaa75-44c0-4154-ded0-115bf24068a7"
      },
      "execution_count": 7,
      "outputs": [
        {
          "output_type": "stream",
          "name": "stdout",
          "text": [
            "Pyt\n"
          ]
        }
      ]
    },
    {
      "cell_type": "code",
      "source": [
        "# Q4.  Write a code to convert the string \"hello\" to uppercase\n",
        "word=\"hello\"\n",
        "word=word.upper()\n",
        "print(word)"
      ],
      "metadata": {
        "colab": {
          "base_uri": "https://localhost:8080/"
        },
        "id": "xta7ANwsjSA8",
        "outputId": "60cc112d-9aa0-4081-d85c-b84f5fbba2b9"
      },
      "execution_count": 11,
      "outputs": [
        {
          "output_type": "stream",
          "name": "stdout",
          "text": [
            "HELLO\n"
          ]
        }
      ]
    },
    {
      "cell_type": "code",
      "source": [
        "# Q5.  Write a code to replace the word \"apple\" with \"orange\" in the string \"I like apple\"\n",
        "string1= \"I like apple\"\n",
        "string1=string1.replace('apple','orange')\n",
        "print(string1)\n"
      ],
      "metadata": {
        "colab": {
          "base_uri": "https://localhost:8080/"
        },
        "id": "_O5oonYHjRiu",
        "outputId": "275ba845-108c-4b38-e72e-7bbb8d3d1e8f"
      },
      "execution_count": 13,
      "outputs": [
        {
          "output_type": "stream",
          "name": "stdout",
          "text": [
            "I like orange\n"
          ]
        }
      ]
    },
    {
      "cell_type": "code",
      "source": [
        "# Q6. Write a code to create a list with numbers 1 to 5 and print it\n",
        "numbers=[1,2,3,4,5]\n",
        "print(numbers)"
      ],
      "metadata": {
        "colab": {
          "base_uri": "https://localhost:8080/"
        },
        "id": "sWAzeF6nkQzs",
        "outputId": "8a1f8f08-a6fd-43ec-c016-42df02cad176"
      },
      "execution_count": 14,
      "outputs": [
        {
          "output_type": "stream",
          "name": "stdout",
          "text": [
            "[1, 2, 3, 4, 5]\n"
          ]
        }
      ]
    },
    {
      "cell_type": "code",
      "source": [
        "# Q7. Write a code to append the number 10 to the list [1, 2, 3, 4]\n",
        "numbers=[1,2,3,4]\n",
        "numbers.append(10)\n",
        "print(numbers)"
      ],
      "metadata": {
        "colab": {
          "base_uri": "https://localhost:8080/"
        },
        "id": "SPnSZrHGknIF",
        "outputId": "e6060521-fbe2-42a8-dab0-c1ad0ac71707"
      },
      "execution_count": 15,
      "outputs": [
        {
          "output_type": "stream",
          "name": "stdout",
          "text": [
            "[1, 2, 3, 4, 10]\n"
          ]
        }
      ]
    },
    {
      "cell_type": "code",
      "source": [
        "# Q8. Write a code to remove the number 3 from the list [1, 2, 3, 4, 5]\n",
        "numbers=[1,2,3,4,5]\n",
        "numbers.remove(3)\n",
        "print(numbers)"
      ],
      "metadata": {
        "colab": {
          "base_uri": "https://localhost:8080/"
        },
        "id": "GupIceITkpcw",
        "outputId": "f5f39b18-28a1-4639-f23c-a5498bf741e1"
      },
      "execution_count": 16,
      "outputs": [
        {
          "output_type": "stream",
          "name": "stdout",
          "text": [
            "[1, 2, 4, 5]\n"
          ]
        }
      ]
    },
    {
      "cell_type": "code",
      "source": [
        "# Q9. Write a code to access the second element in the list ['a', 'b', 'c', 'd']\n",
        "elements=['a', 'b', 'c', 'd']\n",
        "print(\"The second element is:\", elements[1])"
      ],
      "metadata": {
        "colab": {
          "base_uri": "https://localhost:8080/"
        },
        "id": "80x5WvIokpIk",
        "outputId": "c33d3d05-50cb-4cc2-a5ac-f765abc8bd59"
      },
      "execution_count": 19,
      "outputs": [
        {
          "output_type": "stream",
          "name": "stdout",
          "text": [
            "The second element is: b\n"
          ]
        }
      ]
    },
    {
      "cell_type": "code",
      "source": [
        "# Q10. Write a code to reverse the list [10, 20, 30, 40, 50]\n",
        "numbers=[10,20,30,40,50]\n",
        "numbers=numbers[::-1]\n",
        "print(numbers)"
      ],
      "metadata": {
        "colab": {
          "base_uri": "https://localhost:8080/"
        },
        "id": "fBjpbPIYko-3",
        "outputId": "ba5c061a-83b9-461c-a9e0-8df9f8a5edc7"
      },
      "execution_count": 21,
      "outputs": [
        {
          "output_type": "stream",
          "name": "stdout",
          "text": [
            "[50, 40, 30, 20, 10]\n"
          ]
        }
      ]
    },
    {
      "cell_type": "code",
      "source": [
        "# Q11. Write a code to create a tuple with the elements 100, 200, 300 and print it.\n",
        "tuple1=(100,200,300)\n",
        "print(tuple1)"
      ],
      "metadata": {
        "colab": {
          "base_uri": "https://localhost:8080/"
        },
        "id": "urzRZK-kkos8",
        "outputId": "5c43931f-deab-40c5-9bbc-924e5e718d5d"
      },
      "execution_count": 22,
      "outputs": [
        {
          "output_type": "stream",
          "name": "stdout",
          "text": [
            "(100, 200, 300)\n"
          ]
        }
      ]
    },
    {
      "cell_type": "code",
      "source": [
        "# Q12. Write a code to access the second-to-last element of the tuple ('red', 'green', 'blue', 'yellow').\n",
        "tup1=('red', 'green', 'blue', 'yellow')\n",
        "second_last_ele=tup1[-2]\n",
        "print(second_last_ele)"
      ],
      "metadata": {
        "colab": {
          "base_uri": "https://localhost:8080/"
        },
        "id": "tc8aIOLpmtmD",
        "outputId": "06988191-03ef-4fca-f8ad-c223fbe678ba"
      },
      "execution_count": 24,
      "outputs": [
        {
          "output_type": "stream",
          "name": "stdout",
          "text": [
            "blue\n"
          ]
        }
      ]
    },
    {
      "cell_type": "code",
      "source": [
        "# Q13. Write a code to find the minimum number in the tuple (10, 20, 5, 15).\n",
        "tup2=(10,20,5,15)\n",
        "print(min(tup2))"
      ],
      "metadata": {
        "colab": {
          "base_uri": "https://localhost:8080/"
        },
        "id": "dIp_-BCEmtiq",
        "outputId": "a84b7692-e97e-4b67-e5ae-d142206399bc"
      },
      "execution_count": 26,
      "outputs": [
        {
          "output_type": "stream",
          "name": "stdout",
          "text": [
            "5\n"
          ]
        }
      ]
    },
    {
      "cell_type": "code",
      "source": [
        "# Q14. Write a code to find the index of the element \"cat\" in the tuple ('dog', 'cat', 'rabbit').\n",
        "tup3=('dog', 'cat', 'rabbit')\n",
        "tup3.index('cat')"
      ],
      "metadata": {
        "colab": {
          "base_uri": "https://localhost:8080/"
        },
        "id": "jEYcihXbmtaV",
        "outputId": "fec01b50-14b3-469c-a349-8e983c98f938"
      },
      "execution_count": 27,
      "outputs": [
        {
          "output_type": "execute_result",
          "data": {
            "text/plain": [
              "1"
            ]
          },
          "metadata": {},
          "execution_count": 27
        }
      ]
    },
    {
      "cell_type": "code",
      "source": [
        "# Q15. Write a code to create a tuple containing three different fruits and check if \"kiwi\" is in it.\n",
        "fruits = (\"apple\", \"banana\", \"orange\")\n",
        "\n",
        "if \"kiwi\" in fruits:\n",
        "    print(\"Kiwi is in the tuple.\")\n",
        "else:\n",
        "    print(\"Kiwi is not in the tuple.\")"
      ],
      "metadata": {
        "colab": {
          "base_uri": "https://localhost:8080/"
        },
        "id": "PohfWzSJmtI9",
        "outputId": "3d542cc8-2ddd-475b-8d77-a6da8612e390"
      },
      "execution_count": 28,
      "outputs": [
        {
          "output_type": "stream",
          "name": "stdout",
          "text": [
            "Kiwi is not in the tuple.\n"
          ]
        }
      ]
    },
    {
      "cell_type": "code",
      "source": [
        "# Q16. Write a code to create a set with the elements 'a', 'b', 'c' and print it.\n",
        "set1={'a','b','c'}\n",
        "print(set1)"
      ],
      "metadata": {
        "colab": {
          "base_uri": "https://localhost:8080/"
        },
        "id": "qRAejrWsmtGy",
        "outputId": "cc83e57a-ccdc-478b-cca3-80f38f4873b3"
      },
      "execution_count": 29,
      "outputs": [
        {
          "output_type": "stream",
          "name": "stdout",
          "text": [
            "{'a', 'b', 'c'}\n"
          ]
        }
      ]
    },
    {
      "cell_type": "code",
      "source": [
        "# Q17. Write a code to clear all elements from the set {1, 2, 3, 4, 5}.\n",
        "set2={1,2,3,4,5}\n",
        "set2.clear()\n",
        "print(set2)"
      ],
      "metadata": {
        "colab": {
          "base_uri": "https://localhost:8080/"
        },
        "id": "4xZ6yWUTmtCk",
        "outputId": "be8eae33-3b85-4ac8-e00a-0b2c2eaf2165"
      },
      "execution_count": 30,
      "outputs": [
        {
          "output_type": "stream",
          "name": "stdout",
          "text": [
            "set()\n"
          ]
        }
      ]
    },
    {
      "cell_type": "code",
      "source": [
        "# Q18. Write a code to remove the element 4 from the set {1, 2, 3, 4}.\n",
        "set3={1,2,3,4}\n",
        "set3.remove(4)\n",
        "print(set3)"
      ],
      "metadata": {
        "colab": {
          "base_uri": "https://localhost:8080/"
        },
        "id": "Ropyj8Uoms2G",
        "outputId": "fb4f4366-e727-4413-b4a5-425c16838936"
      },
      "execution_count": 32,
      "outputs": [
        {
          "output_type": "stream",
          "name": "stdout",
          "text": [
            "{1, 2, 3}\n"
          ]
        }
      ]
    },
    {
      "cell_type": "code",
      "source": [
        "# Q19. Write a code to find the union of two sets {1, 2, 3} and {3, 4, 5}.\n",
        "s1={1,2,3}\n",
        "s2={3,4,5}\n",
        "print(\"The union of s1 and s2 is \",s1|s2)"
      ],
      "metadata": {
        "colab": {
          "base_uri": "https://localhost:8080/"
        },
        "id": "vBs0viQwmsyy",
        "outputId": "0b5f7df2-92cc-4ab3-b2a1-25b666ccb0a9"
      },
      "execution_count": 34,
      "outputs": [
        {
          "output_type": "stream",
          "name": "stdout",
          "text": [
            "The union of s1 and s2 is  {1, 2, 3, 4, 5}\n"
          ]
        }
      ]
    },
    {
      "cell_type": "code",
      "source": [
        "# Q20. Write a code to find the intersection of two sets {1, 2, 3} and {2, 3, 4}\n",
        "s1={1,2,3}\n",
        "s2={2,3,4}\n",
        "print(\"The intersection of s1 and s2 is \",s1&s2)"
      ],
      "metadata": {
        "colab": {
          "base_uri": "https://localhost:8080/"
        },
        "id": "RCJsrJt3mswy",
        "outputId": "7baa071a-6f6a-4c0f-d64e-640949b0adcf"
      },
      "execution_count": 35,
      "outputs": [
        {
          "output_type": "stream",
          "name": "stdout",
          "text": [
            "The intersection of s1 and s2 is  {2, 3}\n"
          ]
        }
      ]
    },
    {
      "cell_type": "code",
      "source": [
        "# Q21. Write a code to create a dictionary with the keys \"name\", \"age\", and \"city\", and print it.\n",
        "dict1={\"name\":\"Varsha\", \"age\":22, \"city\":\"delhi\"}\n",
        "print(dict1)"
      ],
      "metadata": {
        "colab": {
          "base_uri": "https://localhost:8080/"
        },
        "id": "hTVpSFTiprwc",
        "outputId": "a1a199a2-aa98-4835-a9c5-a479f53f5410"
      },
      "execution_count": 36,
      "outputs": [
        {
          "output_type": "stream",
          "name": "stdout",
          "text": [
            "{'name': 'Varsha', 'age': 22, 'city': 'delhi'}\n"
          ]
        }
      ]
    },
    {
      "cell_type": "code",
      "source": [
        "# Q22. Write a code to add a new key-value pair \"country\": \"USA\" to the dictionary {'name': 'John', 'age': 25}.\n",
        "person = {'name': 'John', 'age': 25}\n",
        "d1={'country':'USA'}\n",
        "person.update(d1)\n",
        "print(person)"
      ],
      "metadata": {
        "colab": {
          "base_uri": "https://localhost:8080/"
        },
        "id": "6ZfBWyDtprs-",
        "outputId": "d3dd7c36-1846-4928-aa8a-5a2ce347ba62"
      },
      "execution_count": 38,
      "outputs": [
        {
          "output_type": "stream",
          "name": "stdout",
          "text": [
            "{'name': 'John', 'age': 25, 'country': 'USA'}\n"
          ]
        }
      ]
    },
    {
      "cell_type": "code",
      "source": [
        "# Q23. Write a code to access the value associated with the key \"name\" in the dictionary {'name': 'Alice', 'age': 30}.\n",
        "person2 = {'name': 'Alice', 'age': 30}\n",
        "name_person2=person2[\"name\"]\n",
        "print(name_person2)"
      ],
      "metadata": {
        "colab": {
          "base_uri": "https://localhost:8080/"
        },
        "id": "OagFdC_fprqL",
        "outputId": "2aa9d636-8a50-42f3-aa50-f571c0184353"
      },
      "execution_count": 40,
      "outputs": [
        {
          "output_type": "stream",
          "name": "stdout",
          "text": [
            "Alice\n"
          ]
        }
      ]
    },
    {
      "cell_type": "code",
      "source": [
        "# Q24. Write a code to remove the key \"age\" from the dictionary {'name': 'Bob', 'age': 22, 'city': 'New York'}.\n",
        "person3={'name': 'Bob', 'age': 22, 'city': 'New York'}\n",
        "del person3['age']\n",
        "print(person3)"
      ],
      "metadata": {
        "colab": {
          "base_uri": "https://localhost:8080/"
        },
        "id": "WBt9x_gOprnS",
        "outputId": "62c4860a-de8b-432e-85b9-76a631011743"
      },
      "execution_count": 41,
      "outputs": [
        {
          "output_type": "stream",
          "name": "stdout",
          "text": [
            "{'name': 'Bob', 'city': 'New York'}\n"
          ]
        }
      ]
    },
    {
      "cell_type": "code",
      "source": [
        "# Q25. Write a code to check if the key \"city\" exists in the dictionary {'name': 'Alice', 'city': 'Paris'}.\n",
        "p={'name': 'Alice', 'city': 'Paris'}\n",
        "if \"city\" in p:\n",
        "    print(\"The key 'city' exists in the dictionary.\")\n",
        "else:\n",
        "    print(\"The key 'city' does not exist in the dictionary.\")"
      ],
      "metadata": {
        "colab": {
          "base_uri": "https://localhost:8080/"
        },
        "id": "RtB88vOlprkb",
        "outputId": "0fb7da24-44e3-4adc-e2ce-7a1dfb516084"
      },
      "execution_count": 44,
      "outputs": [
        {
          "output_type": "stream",
          "name": "stdout",
          "text": [
            "The key 'city' exists in the dictionary.\n"
          ]
        }
      ]
    },
    {
      "cell_type": "code",
      "source": [
        "# Q26. Write a code to create a list, a tuple, and a dictionary, and print them all.\n",
        "my_list = [10, 20, 30]\n",
        "my_tuple = ('apple', 'banana', 'cherry')\n",
        "my_dict = {'name': 'Varsha', 'age': 23, 'city': 'Gurgaon'}\n",
        "\n",
        "# Print all\n",
        "print(\"List:\", my_list)\n",
        "print(\"Tuple:\", my_tuple)\n",
        "print(\"Dictionary:\", my_dict)"
      ],
      "metadata": {
        "colab": {
          "base_uri": "https://localhost:8080/"
        },
        "id": "vW5yqtafprhj",
        "outputId": "0bd2181a-77d6-48bb-e144-11dc8df2b184"
      },
      "execution_count": 45,
      "outputs": [
        {
          "output_type": "stream",
          "name": "stdout",
          "text": [
            "List: [10, 20, 30]\n",
            "Tuple: ('apple', 'banana', 'cherry')\n",
            "Dictionary: {'name': 'Varsha', 'age': 23, 'city': 'Gurgaon'}\n"
          ]
        }
      ]
    },
    {
      "cell_type": "code",
      "source": [
        "# Q27. Write a code to create a list of 5 random numbers between 1 and 100, sort it in ascending order, and print the result.(replaced)\n",
        "import random\n",
        "random_numbers = random.sample(range(1, 101), 5)\n",
        "print(\"random number: \", random_numbers)\n",
        "random_numbers.sort()\n",
        "print(\"Sorted random numbers:\", random_numbers)"
      ],
      "metadata": {
        "colab": {
          "base_uri": "https://localhost:8080/"
        },
        "id": "F2vah5CCpre1",
        "outputId": "671d5c32-9f65-47cc-e65f-dad7c84e6fba"
      },
      "execution_count": 47,
      "outputs": [
        {
          "output_type": "stream",
          "name": "stdout",
          "text": [
            "random number:  [59, 44, 91, 70, 11]\n",
            "Sorted random numbers: [11, 44, 59, 70, 91]\n"
          ]
        }
      ]
    },
    {
      "cell_type": "code",
      "source": [
        "# Q28. Write a code to create a list with strings and print the element at the third index.\n",
        "words = [\"apple\", \"banana\", \"cherry\", \"date\", \"elderberry\"]\n",
        "print(\"Element at index 3:\", words[3])"
      ],
      "metadata": {
        "colab": {
          "base_uri": "https://localhost:8080/"
        },
        "id": "pJTjUiqdprcN",
        "outputId": "03b122cf-993b-451d-b620-aae8084d0c06"
      },
      "execution_count": 48,
      "outputs": [
        {
          "output_type": "stream",
          "name": "stdout",
          "text": [
            "Element at index 3: date\n"
          ]
        }
      ]
    },
    {
      "cell_type": "code",
      "source": [
        "# Q29. Write a code to combine two dictionaries into one and print the result.\n",
        "dict1 = {'name': 'Alice', 'age': 30}\n",
        "dict2 = {'city': 'Paris', 'country': 'France'}\n",
        "# Update dict1 with dict2\n",
        "dict1.update(dict2)\n",
        "print(dict1)"
      ],
      "metadata": {
        "colab": {
          "base_uri": "https://localhost:8080/"
        },
        "id": "G7S6J_6YprZK",
        "outputId": "a8eed5b8-b5df-4bda-802d-69ce2dd75004"
      },
      "execution_count": 50,
      "outputs": [
        {
          "output_type": "stream",
          "name": "stdout",
          "text": [
            "{'name': 'Alice', 'age': 30, 'city': 'Paris', 'country': 'France'}\n"
          ]
        }
      ]
    },
    {
      "cell_type": "code",
      "source": [
        "# Q30. Write a code to convert a list of strings into a set\n",
        "string_list = [\"apple\", \"banana\", \"apple\", \"cherry\"]\n",
        "string_set = set(string_list)\n",
        "print(string_set)"
      ],
      "metadata": {
        "colab": {
          "base_uri": "https://localhost:8080/"
        },
        "id": "5lv-cY5bprWJ",
        "outputId": "e7f51003-6af5-4bae-bd24-f567ab74a5c0"
      },
      "execution_count": 51,
      "outputs": [
        {
          "output_type": "stream",
          "name": "stdout",
          "text": [
            "{'cherry', 'apple', 'banana'}\n"
          ]
        }
      ]
    },
    {
      "cell_type": "code",
      "source": [],
      "metadata": {
        "id": "tWahGFUvthIs"
      },
      "execution_count": null,
      "outputs": []
    }
  ]
}