{
  "nbformat": 4,
  "nbformat_minor": 0,
  "metadata": {
    "colab": {
      "provenance": []
    },
    "kernelspec": {
      "name": "python3",
      "display_name": "Python 3"
    },
    "language_info": {
      "name": "python"
    }
  },
  "cells": [
    {
      "cell_type": "markdown",
      "source": [
        "# Theory Questions\n"
      ],
      "metadata": {
        "id": "I9VczOvAFAaz"
      }
    },
    {
      "cell_type": "markdown",
      "source": [
        "1. What is Python, and why is it popular?\n",
        "\n",
        " Ans: Python is a versatile, intepreted and high level language, it is formal language for creating instructions for a computer to follow and it has a set of rules and symbols that define process of writing computer programs.\n",
        "\n",
        " It is popular because:\n",
        " - Python is widely used in industry as it is **easy to use** and it's syntax is very simple.\n",
        " - Python can be used to **automate the work** that is really useful in this modern world.\n",
        " - Python has extensive libraries and framework that simplify the development.\n",
        " - Python has extensive useability like this can be used in Data Science, web development, machine learning.\n",
        "\n",
        "2. What is an interpreter in Python?\n",
        "   \n",
        "   Ans:  Interpreter is a program which converts the high level code which human writes into the machine level code (bytecode) and then execute it line by line. It is different from compiler that it convert the code line by line whereas compiler converts the whole code in one go.\n",
        "\n",
        "   The advantages of Interpreter in Python are:\n",
        "   - Flexible to use\n",
        "   - Extensive use in Programming and development environment.\n",
        "   - Takes less time comparison to Compilers\n",
        "   - Takes less utilization of CPU.\n",
        "\n",
        "3. What are pre-defined keywords in Python?\n",
        "\n",
        " Ans: In python, pre-defined keywords are the reserved words that hold special meaning and have specific purpose. They cannot be used to name the variables, functions and classes.\n",
        "\n",
        " Example:\n",
        "\n",
        " Value Keywords: True, False, None Keyword, del\n",
        "\n",
        " Operator Keywords: and, or, not, in, is\n",
        "\n",
        " Conditional keywords in Python: if, else, elif\n",
        "\n",
        " Iteration Keywords: for, while, break, continue, pass in Python\n",
        "\n",
        "4. Can keywords be used as variable names?\n",
        "\n",
        " Ans: No, the keywords cannot be used as variable names as they already have specific, predefined meanings within the language and are used for syntax and structure. Using them as variable names would lead to errors because the compiler/interpreter would not know if we're referring to a variable or a keyword.\n",
        "\n",
        "5.  What is mutability in Python?\n",
        "\n",
        " Ans: In Python, objects can be either changeable (modifiable) or unchangeable (unchangeable). Mutable objects, such as lists and dictionaries, can be modified after creation. Mutability affects how objects are stored and manipulated in memory, impacting performance, memory usage, and concurrency in Python programs.\n",
        " Example: a=\"varsha\"\n",
        "\n",
        " here a has datatype string , we cannot do a[1]=\"D\". This is immutable,\n",
        "\n",
        " but if we have a list , a_list=[1,2,\"varsha\"],\n",
        " here we can do a_list[2]=\"saini\". Here the list is mutable.\n",
        "\n",
        "6.  Why are lists mutable, but tuples are immutable?\n",
        "\n",
        " Ans:Lists and tuples have many similarities but mutability is the key difference that tuples are like lists in syntax and value storage but they cannot be changed once created hence immutable.\n",
        "\n",
        " Suppose you write a method that depends on a particular sequence of objects remaining the same throughout the lifetime of the code. If you store these objects in a list, there is a chance that some other method using the list will accidentally alter it and thus break your method. Thus, in a way, a tuple offers a guarantee that a particular collection of objects will remain fixed.\n",
        "\n",
        "7.  What is the difference between “==” and “is” operators in Python?\n",
        "\n",
        " Ans: In Python, == and is operators are both used for comparison but they serve different purposes.\n",
        "\n",
        " The == operator checks for equality of values which means it evaluates whether the values of two objects are the same, It returns True if the values are the same, even if the objects are different instances in memory.\n",
        "\n",
        " Is operator checks for identity, meaning it determines whether two variables point to the same object in memory hence compares the memory addresses of the objects and then return true.\n",
        "\n",
        "\n",
        "8.  What are logical operators in Python?\n",
        "\n",
        " Ans: Python logical operators are used to combine conditional statements, allowing you to perform operations based on multiple conditions. These Python operators, alongside arithmetic operators, are special symbols used to carry out computations on values and variables. Different logical operators are given below:\n",
        "\n",
        " And: Returns True if both the operands are true\n",
        "\n",
        " Or:\tReturns True if either of the operands is true\n",
        "\n",
        " Not:\tReturns True if the operand is false\n",
        "\n",
        "9.  What is type casting in Python?\n",
        "\n",
        " Ans: Type casting, also referred to as type conversion, is the process of changing one data type to another in Python. Python provides built-in functions for type casting, such as int(), float(), str(), list(), tuple(), dict(), etc. Type casting is necessary for performing arithmetic operations, data manipulation, and input/output operations in Python programs.\n",
        " Example:\n",
        "\n",
        " a = \"10\"      # string\n",
        "\n",
        " b = 5         # integer\n",
        "\n",
        " a_int = int(a)\n",
        "\n",
        " Using the above statement, we are typecasting the a to int and this is explicit typecasting.\n",
        "\n",
        "10. What is the difference between implicit and explicit type casting?\n",
        "\n",
        " Ans: In **implicit** type casting, the programming language automatically converts data from one type to another if needed. For example, if you have an integer variable and you try to assign it to a float variable, the programming language will automatically convert the integer to a float without you having to do anything.\n",
        "\n",
        " Advantages:\n",
        " - Automatic\n",
        "\n",
        " Disadvantages:\n",
        " - Loss of Precision\n",
        "\n",
        " **Explicit** type casting, also known as type conversion or type coercion, occurs when the programmer explicitly converts a value from one data type to another. Explicit type casting requires the programmer to specify the desired data type conversion.\n",
        "  \n",
        "  Advantages:\n",
        " - Contol\n",
        " - Avoid Loss of Precision\n",
        "\n",
        " Disadvantages:\n",
        " - Complexity\n",
        "\n",
        "11. What is the purpose of conditional statements in Python?\n",
        "\n",
        " Ans: A conditional statement in Python determines the flow of code execution and its direction based on certain conditions. It decides the control flow of a Python program according to the output of the given condition.\n",
        "\n",
        " Conditionals in Python enable conditional execution of a statement or a group of statements based on the expression's value. For example, we can segregate even and odd numbers using if-else statements in Python.\n",
        "\n",
        " Main Purpose\n",
        " - Decision-making\n",
        " - Flow Control\n",
        " - Error handling\n",
        " - Efficiency\n",
        "\n",
        "12. How does the elif statement work?\n",
        "\n",
        " Ans: The “elif” keyword in Python, stands for “else if”. It can be used in conditional statements to check for multiple conditions. For example, if the first condition is false, it moves on to the next “elif” statement to check if that condition is true. If none of the conditions are true, the code will execute the else statement. Mainly elif are the different if conditions , if none of them meet then the else block will execute.\n",
        "\n",
        " Syntax:\n",
        " if condition1:\n",
        "    execute code if condition1 is true\n",
        " elif condition2:\n",
        "    execute code if condition2 is true\n",
        " else:\n",
        "    execute code if all conditions are false\n",
        "\n",
        "13. What is the difference between for and while loops?\n",
        "\n",
        " Ans:\n",
        "\n",
        " For Loop:\n",
        "   - The for loop is used when you know in advance how many times you want to execute the block of code.\n",
        "   - It iterates over a sequence (e.g., a list, tuple, string, or range) and executes the block of code for each item in the sequence.\n",
        "   - The loop variable (variable) takes the value of each item in the sequence during each iteration.\n",
        "\n",
        " While Loop:\n",
        "  - The while loop is used when you don't know in advance how many times you want to execute the block of code. It continues to execute as long as the specified condition is true.\n",
        "  - It's important to make sure that the condition eventually becomes false; otherwise, the loop will run infinitly.\n",
        "\n",
        "\n",
        "14. Describe a scenario where a while loop is more suitable than a for loop.\n",
        "\n",
        " Ans: A while loop is more suitable than a for loop in scenarios where the number of iterations is not known in advance and the loop should continue until a certain condition becomes false, rather than iterating a fixed number of times.\n",
        "\n",
        " Scenario:\n",
        "\n",
        " User Login Attempt\n",
        "\n",
        " Imagine a program that keeps asking the user for their password until they enter it correctly. You don't know how many attempts the user will need, so a while loop is ideal.\n",
        "\n",
        " Why while is better here: You don't know how many times the user will fail before entering the correct password.\n",
        "\n",
        " A for loop would require a predetermined number of iterations (e.g., 3 tries max), which doesn't suit this open-ended condition.\n",
        "\n",
        " A while loop allows the program to keep looping as long as a condition is true, which fits this case perfectly.\n"
      ],
      "metadata": {
        "id": "BVlKqvbgFFdS"
      }
    },
    {
      "cell_type": "markdown",
      "source": [
        "# Practical Questions"
      ],
      "metadata": {
        "id": "eRUyA16zho2y"
      }
    },
    {
      "cell_type": "code",
      "source": [
        "# Q1. Write a Python program to print \"Hello, World!\"\n",
        "\n",
        "print('\"Hello, World!\"')"
      ],
      "metadata": {
        "colab": {
          "base_uri": "https://localhost:8080/"
        },
        "id": "cGElxI-chsut",
        "outputId": "f7a7b65c-4bcb-4ad4-9205-fe12c9c7e2c9"
      },
      "execution_count": null,
      "outputs": [
        {
          "output_type": "stream",
          "name": "stdout",
          "text": [
            "\"Hello, World!\"\n"
          ]
        }
      ]
    },
    {
      "cell_type": "code",
      "source": [
        "# Q2. Write a Python program that displays your name and age\n",
        "\n",
        "name= input(\"Please enter your name: \")\n",
        "age= input(\"Please enter your age: \")\n",
        "\n",
        "print(\"My name is: \" + name)\n",
        "print(\"My age is: \" + age)"
      ],
      "metadata": {
        "colab": {
          "base_uri": "https://localhost:8080/"
        },
        "id": "HgEk-Ts-iDh2",
        "outputId": "a5b20b50-1f5e-4d7d-8711-a7978409f7ad"
      },
      "execution_count": null,
      "outputs": [
        {
          "output_type": "stream",
          "name": "stdout",
          "text": [
            "Please enter your name: Varsha\n",
            "Please enter your age: 22\n",
            "My name is: Varsha\n",
            "My age is: 22\n"
          ]
        }
      ]
    },
    {
      "cell_type": "code",
      "source": [
        "# Q3. Write code to print all the pre-defined keywords in Python using the keyword library\n",
        "\n",
        "help('keywords')"
      ],
      "metadata": {
        "colab": {
          "base_uri": "https://localhost:8080/"
        },
        "id": "IYmnHI_HiihY",
        "outputId": "87428f5f-c0c1-4776-a082-c9fc7406a809"
      },
      "execution_count": null,
      "outputs": [
        {
          "output_type": "stream",
          "name": "stdout",
          "text": [
            "\n",
            "Here is a list of the Python keywords.  Enter any keyword to get more help.\n",
            "\n",
            "False               class               from                or\n",
            "None                continue            global              pass\n",
            "True                def                 if                  raise\n",
            "and                 del                 import              return\n",
            "as                  elif                in                  try\n",
            "assert              else                is                  while\n",
            "async               except              lambda              with\n",
            "await               finally             nonlocal            yield\n",
            "break               for                 not                 \n",
            "\n"
          ]
        }
      ]
    },
    {
      "cell_type": "code",
      "source": [
        "# Q4. Write a program that checks if a given word is a Python keyword.\n",
        "\n",
        "import keyword\n",
        "word = input(\"Enter a word to check: \")\n",
        "if keyword.iskeyword(word):\n",
        "    print(word +\" is a Python keyword.\")\n",
        "else:\n",
        "    print(word +\" is not a Python keyword.\")\n"
      ],
      "metadata": {
        "colab": {
          "base_uri": "https://localhost:8080/"
        },
        "id": "776m0OrXjFiA",
        "outputId": "5cd07c84-b4de-4e28-b6b5-0d76ec6f9a83"
      },
      "execution_count": null,
      "outputs": [
        {
          "output_type": "stream",
          "name": "stdout",
          "text": [
            "Enter a word to check: else\n",
            "else is a Python keyword.\n"
          ]
        }
      ]
    },
    {
      "cell_type": "code",
      "source": [
        "# Q5.  Create a list and tuple in Python, and demonstrate how attempting to change an element works differently for each.\n",
        "\n",
        "my_list= [1,2,3,4]\n",
        "my_tuple= (1,2,3,4)\n",
        "\n",
        "my_list[1]=\"varsha\"\n",
        "print(my_list)\n",
        "my_tuple[1]=\"varsha\"\n",
        "print(my_tuple)\n",
        "\n",
        "# list and tuples are similar but we have list that is mutable\n",
        "# but Tuples are immutable so that the values created at the time of creation remains same throughout the code."
      ],
      "metadata": {
        "colab": {
          "base_uri": "https://localhost:8080/",
          "height": 211
        },
        "id": "8qV2vqo9jr5C",
        "outputId": "af4f0615-0e0f-427f-bec9-c1e9cb7250ad"
      },
      "execution_count": null,
      "outputs": [
        {
          "output_type": "stream",
          "name": "stdout",
          "text": [
            "[1, 'varsha', 3, 4]\n"
          ]
        },
        {
          "output_type": "error",
          "ename": "TypeError",
          "evalue": "'tuple' object does not support item assignment",
          "traceback": [
            "\u001b[0;31m---------------------------------------------------------------------------\u001b[0m",
            "\u001b[0;31mTypeError\u001b[0m                                 Traceback (most recent call last)",
            "\u001b[0;32m<ipython-input-13-c10183e50a32>\u001b[0m in \u001b[0;36m<cell line: 0>\u001b[0;34m()\u001b[0m\n\u001b[1;32m      6\u001b[0m \u001b[0mmy_list\u001b[0m\u001b[0;34m[\u001b[0m\u001b[0;36m1\u001b[0m\u001b[0;34m]\u001b[0m\u001b[0;34m=\u001b[0m\u001b[0;34m\"varsha\"\u001b[0m\u001b[0;34m\u001b[0m\u001b[0;34m\u001b[0m\u001b[0m\n\u001b[1;32m      7\u001b[0m \u001b[0mprint\u001b[0m\u001b[0;34m(\u001b[0m\u001b[0mmy_list\u001b[0m\u001b[0;34m)\u001b[0m\u001b[0;34m\u001b[0m\u001b[0;34m\u001b[0m\u001b[0m\n\u001b[0;32m----> 8\u001b[0;31m \u001b[0mmy_tuple\u001b[0m\u001b[0;34m[\u001b[0m\u001b[0;36m1\u001b[0m\u001b[0;34m]\u001b[0m\u001b[0;34m=\u001b[0m\u001b[0;34m\"varsha\"\u001b[0m\u001b[0;34m\u001b[0m\u001b[0;34m\u001b[0m\u001b[0m\n\u001b[0m\u001b[1;32m      9\u001b[0m \u001b[0mprint\u001b[0m\u001b[0;34m(\u001b[0m\u001b[0mmy_tuple\u001b[0m\u001b[0;34m)\u001b[0m\u001b[0;34m\u001b[0m\u001b[0;34m\u001b[0m\u001b[0m\n",
            "\u001b[0;31mTypeError\u001b[0m: 'tuple' object does not support item assignment"
          ]
        }
      ]
    },
    {
      "cell_type": "code",
      "source": [
        "# Q6. Write a function to demonstrate the behavior of mutable and immutable arguments.\n",
        "\n",
        "def modify_arguments(immutable_arg, mutable_arg):\n",
        "    print(\"\\nInside function before modification:\")\n",
        "    print(\"Immutable:\", immutable_arg)\n",
        "    print(\"Mutable:\", mutable_arg)\n",
        "\n",
        "    immutable_arg += 10\n",
        "    mutable_arg.append(4)\n",
        "\n",
        "    print(\"\\nInside function after modification:\")\n",
        "    print(\"Immutable:\", immutable_arg)\n",
        "    print(\"Mutable:\", mutable_arg)\n",
        "\n",
        "# Immutable argument (int)\n",
        "num = 5\n",
        "\n",
        "# Mutable argument (list)\n",
        "my_list = [1, 2, 3]\n",
        "\n",
        "print(\"Before function call:\")\n",
        "print(\"num:\", num)\n",
        "print(\"my_list:\", my_list)\n",
        "\n",
        "modify_arguments(num, my_list)\n",
        "\n",
        "print(\"\\nAfter function call:\")\n",
        "print(\"num:\", num)\n",
        "print(\"my_list:\", my_list)\n"
      ],
      "metadata": {
        "colab": {
          "base_uri": "https://localhost:8080/"
        },
        "id": "ImSttKPKkNTX",
        "outputId": "5dd2cd9e-a353-4936-8c2e-2f8314eca7e5"
      },
      "execution_count": null,
      "outputs": [
        {
          "output_type": "stream",
          "name": "stdout",
          "text": [
            "Before function call:\n",
            "num: 5\n",
            "my_list: [1, 2, 3]\n",
            "\n",
            "Inside function before modification:\n",
            "Immutable: 5\n",
            "Mutable: [1, 2, 3]\n",
            "\n",
            "Inside function after modification:\n",
            "Immutable: 15\n",
            "Mutable: [1, 2, 3, 4]\n",
            "\n",
            "After function call:\n",
            "num: 5\n",
            "my_list: [1, 2, 3, 4]\n"
          ]
        }
      ]
    },
    {
      "cell_type": "code",
      "source": [
        "# Q7. Write a program that performs basic arithmetic operations on two user-input numbers.\n",
        "\n",
        "first_num= int(input(\"Enter the first number: \"))\n",
        "second_num= int(input(\"Enter the second number: \"))\n",
        "\n",
        "\n",
        "# Add operation\n",
        "print(\"Addition: \" , first_num + second_num)\n",
        "\n",
        "# Subtraction\n",
        "print(\"Subtraction:\", first_num - second_num)\n",
        "\n",
        "# Multiplication\n",
        "print(\"Multiplication:\", first_num * second_num)\n",
        "\n",
        "# Division\n",
        "if second_num != 0:\n",
        "    print(\"Division:\", first_num / second_num)\n",
        "else:\n",
        "    print(\"Division: Cannot divide by zero\")\n",
        "\n",
        "#Modulus\n",
        "print(\"Module:\", first_num % second_num)"
      ],
      "metadata": {
        "colab": {
          "base_uri": "https://localhost:8080/"
        },
        "id": "6sO-aYpdlkxe",
        "outputId": "6ce25b6c-6e25-4b5e-83dd-841bbdb4b707"
      },
      "execution_count": null,
      "outputs": [
        {
          "output_type": "stream",
          "name": "stdout",
          "text": [
            "Enter the first number: 10\n",
            "Enter the second number: 5\n",
            "Addition:  15\n",
            "Subtraction: 5\n",
            "Multiplication: 50\n",
            "Division: 2.0\n",
            "Module: 0\n"
          ]
        }
      ]
    },
    {
      "cell_type": "code",
      "source": [
        "# Q8. Write a program to demonstrate the use of logical operators.\n",
        "\n",
        "# Define two numbers\n",
        "a = 10\n",
        "b = 5\n",
        "\n",
        "# Logical AND\n",
        "print(\"a > 0 and b > 0:\", a > 0 and b > 0)\n",
        "\n",
        "# Logical OR\n",
        "print(\"a > 0 or b < 0:\", a > 0 or b < 0)\n",
        "\n",
        "# Logical NOT\n",
        "print(\"not(a > 0):\", not (a > 0))\n"
      ],
      "metadata": {
        "colab": {
          "base_uri": "https://localhost:8080/"
        },
        "id": "zPMbxu8mmIy5",
        "outputId": "4424fe0d-1350-4ab9-b10f-1b7b0cfbf898"
      },
      "execution_count": null,
      "outputs": [
        {
          "output_type": "stream",
          "name": "stdout",
          "text": [
            "a > 0 and b > 0: True\n",
            "a > 0 or b < 0: True\n",
            "not(a > 0): False\n"
          ]
        }
      ]
    },
    {
      "cell_type": "code",
      "source": [
        "# Q9. Write a Python program to convert user input from string to integer, float, and boolean types.\n",
        "user_input = input(\"Enter a value: \")\n",
        "\n",
        "# Convert to integer\n",
        "try:\n",
        "    int_value = int(user_input)\n",
        "    print(\"Integer value:\", int_value)\n",
        "except ValueError:\n",
        "    print(\"Cannot convert to integer.\")\n",
        "\n",
        "# Convert to float\n",
        "try:\n",
        "    float_value = float(user_input)\n",
        "    print(\"Float value:\", float_value)\n",
        "except ValueError:\n",
        "    print(\"Cannot convert to float.\")\n",
        "\n",
        "# Convert to boolean\n",
        "bool_value = bool(user_input.strip())\n",
        "print(\"Boolean value:\", bool_value)\n"
      ],
      "metadata": {
        "colab": {
          "base_uri": "https://localhost:8080/"
        },
        "id": "18IurKPon8p0",
        "outputId": "59a9cd77-2523-43db-8cb1-394b87064006"
      },
      "execution_count": null,
      "outputs": [
        {
          "output_type": "stream",
          "name": "stdout",
          "text": [
            "Enter a value: 10\n",
            "Integer value: 10\n",
            "Float value: 10.0\n",
            "Boolean value: True\n"
          ]
        }
      ]
    },
    {
      "cell_type": "code",
      "source": [
        "# Q10. Write code to demonstrate type casting with list elements.\n",
        "\n",
        "# Original list of strings\n",
        "str_list = [\"10\", \"20\", \"30\", \"0\", \"\"]\n",
        "\n",
        "print(\"Original list:\", str_list)\n",
        "# Convert to integers (skip empty strings)\n",
        "int_list = []\n",
        "for item in str_list:\n",
        "    if item != \"\":\n",
        "        int_list.append(int(item))\n",
        "print(\"Integers:\", int_list)\n",
        "\n",
        "# Convert to floats (skip empty strings)\n",
        "float_list = []\n",
        "for item in str_list:\n",
        "    if item != \"\":\n",
        "        float_list.append(float(item))\n",
        "print(\"Floats:\", float_list)\n",
        "\n",
        "# Convert to booleans (empty string becomes False)\n",
        "bool_list = []\n",
        "for item in str_list:\n",
        "    bool_list.append(bool(item))\n",
        "print(\"Booleans:\", bool_list)\n",
        "\n"
      ],
      "metadata": {
        "colab": {
          "base_uri": "https://localhost:8080/"
        },
        "id": "86iYDDzMoJYp",
        "outputId": "acaad826-0353-4441-ce40-a8d952408499"
      },
      "execution_count": null,
      "outputs": [
        {
          "output_type": "stream",
          "name": "stdout",
          "text": [
            "Original list: ['10', '20', '30', '0', '']\n",
            "Integers: [10, 20, 30, 0]\n",
            "Floats: [10.0, 20.0, 30.0, 0.0]\n",
            "Booleans: [True, True, True, True, False]\n"
          ]
        }
      ]
    },
    {
      "cell_type": "code",
      "source": [
        "# Q11.  Write a program that checks if a number is positive, negative, or zero.\n",
        "num= int(input(\"Enter a number: \"))\n",
        "if num>0:\n",
        "  print(\"num is positive\")\n",
        "elif num<0:\n",
        "  print(\"num is negative\")\n",
        "elif num==0:\n",
        "  print(\"num is zero\")\n",
        "else:\n",
        "  print(\"invalid num\")"
      ],
      "metadata": {
        "colab": {
          "base_uri": "https://localhost:8080/"
        },
        "id": "TIU-BgzUo1UB",
        "outputId": "22a81b0f-59ff-46d0-c4fe-5b5ade09f770"
      },
      "execution_count": null,
      "outputs": [
        {
          "output_type": "stream",
          "name": "stdout",
          "text": [
            "Enter a number: 10\n",
            "num is positive\n"
          ]
        }
      ]
    },
    {
      "cell_type": "code",
      "source": [
        "# Q12. Write a for loop to print numbers from 1 to 10.\n",
        "\n",
        "for i in range(1,11):\n",
        "  print(i, end=\" \")"
      ],
      "metadata": {
        "colab": {
          "base_uri": "https://localhost:8080/"
        },
        "id": "yD_QHToQp9aC",
        "outputId": "2c278be1-aa6e-48be-99c9-b528333ddac2"
      },
      "execution_count": null,
      "outputs": [
        {
          "output_type": "stream",
          "name": "stdout",
          "text": [
            "1 2 3 4 5 6 7 8 9 10 "
          ]
        }
      ]
    },
    {
      "cell_type": "code",
      "source": [
        "# Q13. Write a Python program to find the sum of all even numbers between 1 and 50.\n",
        "ans=0\n",
        "for i in range(1,51):\n",
        "  if i%2==0:\n",
        "    ans+=i;\n",
        "\n",
        "print(\"the sum of all even num b/w 1 and 50 is\",ans)"
      ],
      "metadata": {
        "id": "ymwsuoZ_sCdx",
        "colab": {
          "base_uri": "https://localhost:8080/"
        },
        "outputId": "9dc149e8-13be-404e-8382-bb9aa9579dba"
      },
      "execution_count": null,
      "outputs": [
        {
          "output_type": "stream",
          "name": "stdout",
          "text": [
            "the sum of all even num b/w 1 and 50 is 650\n"
          ]
        }
      ]
    },
    {
      "cell_type": "code",
      "source": [
        "# Q14. Write a program to reverse a string using a while loop.\n",
        "\n",
        "original_str=\"varsha\"\n",
        "reversed_str = \"\"\n",
        "index = len(original_str) - 1\n",
        "\n",
        "while index >= 0:\n",
        "    reversed_str += original_str[index]\n",
        "    index -= 1\n",
        "\n",
        "print(\"Reversed string:\", reversed_str)"
      ],
      "metadata": {
        "id": "TvY108K_sPCz",
        "colab": {
          "base_uri": "https://localhost:8080/"
        },
        "outputId": "5bac623e-64e4-49ca-d38d-0fb244ee50d9"
      },
      "execution_count": null,
      "outputs": [
        {
          "output_type": "stream",
          "name": "stdout",
          "text": [
            "Reversed string: ahsrav\n"
          ]
        }
      ]
    },
    {
      "cell_type": "code",
      "source": [
        "# Q15. Write a Python program to calculate the factorial of a number provided by the user using a while loop.\n",
        "num=int(input(\"Enter the number:\"))\n",
        "i=1\n",
        "factorial=1\n",
        "while (i<=num):\n",
        "  factorial*=i\n",
        "  i+=1\n",
        "\n",
        "print(factorial)"
      ],
      "metadata": {
        "colab": {
          "base_uri": "https://localhost:8080/"
        },
        "id": "HvZLxcTOus1E",
        "outputId": "6210e211-f7de-4d8f-f001-1c4e3429d799"
      },
      "execution_count": null,
      "outputs": [
        {
          "output_type": "stream",
          "name": "stdout",
          "text": [
            "Enter the number:6\n",
            "720\n"
          ]
        }
      ]
    }
  ]
}