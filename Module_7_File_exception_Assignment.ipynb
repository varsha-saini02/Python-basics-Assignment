{
  "nbformat": 4,
  "nbformat_minor": 0,
  "metadata": {
    "colab": {
      "provenance": []
    },
    "kernelspec": {
      "name": "python3",
      "display_name": "Python 3"
    },
    "language_info": {
      "name": "python"
    }
  },
  "cells": [
    {
      "cell_type": "markdown",
      "source": [
        "#Theory Questions\n"
      ],
      "metadata": {
        "id": "QEBser4BvvZH"
      }
    },
    {
      "cell_type": "markdown",
      "source": [
        "1. What is the difference between interpreted and compiled languages?\n",
        "\n",
        " Ans:\n",
        "\n",
        " Compiled: Source is translated once into machine-code/byte-code before execution; starts quickly at runtime and can be optimized by the compiler (e.g., C, Rust).\n",
        "\n",
        "  Interpreted: Source (or intermediate byte-code) is analyzed and executed on the fly by an interpreter each time you run it (e.g., CPython executes Python byte-code). Compiled tends to run faster; interpreted offers more flexibility and easier debugging.\n",
        "\n",
        "2. What is exception handling in Python?\n",
        "\n",
        " Ans: A structured mechanism (try … except …) that lets you detect runtime errors, separate normal logic from error-recovery logic, and keep the program from crashing unexpectedly.\n",
        "\n",
        "3. What is the purpose of the finally block in exception handling?\n",
        "\n",
        " Ans: Code in finally executes no matter what—whether an exception was raised, handled, or the block returned early—ensuring cleanup actions such as closing files or releasing locks.\n",
        "\n",
        "\n",
        "4. What is logging in Python?\n",
        "\n",
        " Ans: Using the built-in logging module to record events (messages, warnings, errors, etc.) during execution for debugging, auditing, and monitoring.\n",
        "\n",
        "5. What is the significance of the __del__ method in Python?\n",
        "\n",
        " Ans:  __del__(self) is a destructor called when an object is about to be garbage-collected. Use it sparingly—cleanup is better handled with context managers because __del__ timing isn't guaranteed.\n",
        "\n",
        "6. What is the difference between import and from ... import in Python?\n",
        "\n",
        " Ans:  \n",
        "\n",
        " * import math brings in the module; you access names as math.pi.\n",
        "\n",
        " * from math import pi brings specific names directly into the current namespace; you use pi without the module prefix.\n",
        "7. How can you handle multiple exceptions in Python.\n",
        "\n",
        " Ans:  \n",
        "       try:\n",
        "          ...\n",
        "       except (IOError, OSError) as err:   # tuple\n",
        "          ...\n",
        "       except ValueError:\n",
        "          ...\n",
        "\n",
        "  You can stack several except blocks or group related exceptions in a tuple.\n",
        "\n",
        "8. What is the purpose of the with statement when handling files in Python?\n",
        "\n",
        " Ans:\n",
        "     with open('file.txt') as f: creates a context manager that automatically closes (and flushes) the file when the block exits, even if an exception occurs.\n",
        "\n",
        "9. What is the difference between multithreading and multiprocessing?\n",
        "\n",
        " Ans:  \n",
        " * Multithreading: multiple threads share one process's memory space; lightweight context switch; limited in CPython by the GIL for CPU-bound code but great for I/O bound tasks.\n",
        "\n",
        " * Multiprocessing: separate OS processes with independent memory; avoids the GIL, scales on multiple cores, but heavier (inter-process communication, higher memory).\n",
        "10. What are the advantages of using logging in a program?\n",
        "\n",
        " Ans:\n",
        "  * Centralized, configurable message handling (levels, formats, destinations)\n",
        "  * Persistent record for post-mortem analysis\n",
        "  * Works in production without needing a debugger\n",
        "  * Helps audit security events and performance metrics\n",
        "11. What is memory management in Python?\n",
        "\n",
        " Ans: Automatic allocation and reclamation of objects via reference counting plus a generational cyclic garbage collector for unreachable reference cycles. The pymalloc allocator handles small-object pools for speed.\n",
        "\n",
        "12. What are the basic steps involved in exception handling in Python?\n",
        "\n",
        " Ans: Basic steps in exception handling\n",
        "\n",
        "   1. try: wrap sensitive code.\n",
        "   2. except: catch specific (or generic) exceptions and react.\n",
        "   3. else (optional): run code that should execute only if no exception occurred.\n",
        "   4. finally (optional): run unconditional cleanup.\n",
        "\n",
        "13. Why is memory management important in Python?\n",
        " Ans: Efficient memory use prevents leaks, reduces fragmentation, avoids swapping, and ensures long-running Python programs (servers, data pipelines) remain fast and stable.\n",
        "\n",
        "14. What is the role of try and except in exception handling?\n",
        "\n",
        " Ans: try marks a block that might fail;\n",
        "\n",
        "  associated except clauses intercept named exceptions, allowing graceful degradation, retries, or user-friendly error messages instead of a crash.\n",
        "\n",
        "15. How does Python's garbage collection system work.\n",
        "\n",
        " Ans:\n",
        " Reference counting decrements counters immediately; when it hits zero, memory is released.\n",
        "\n",
        " Cyclic GC runs periodically, detecting groups of objects referencing one another but unreachable from program roots. It uses a three-generation algorithm (0,1,2) to minimize pause time.\n",
        "16. What is the purpose of the else block in exception handling?\n",
        "\n",
        " Ans: else after except runs only if the try block completed without raising, keeping “mainline” logic separate from error handling.\n",
        "\n",
        "17. What are the common logging levels in Python?\n",
        "\n",
        " Ans: DEBUG < INFO < WARNING < ERROR < CRITICAL (integer values 10,20,30,40,50).\n",
        "18. What is the difference between os.fork() and multiprocessing in Python?\n",
        "\n",
        " Ans:\n",
        "\n",
        "  os.fork() (Unix only) clones the current process at the system call level; you manage everything manually.\n",
        "\n",
        "  multiprocessing is cross-platform, spawns or forks processes and provides safe queues, pools, shared memory, and high-level API; it can fall back to spawn on Windows.\n",
        "\n",
        "19. What is the importance of closing a file in Python?\n",
        "\n",
        " Ans: Flushes buffered data to disk, frees the OS file descriptor, avoids hitting per-process handle limits, and prevents data corruption.\n",
        "\n",
        "20. What is the difference between file.read() and file.readline() in Python?\n",
        "\n",
        " Ans:\n",
        "\n",
        "  read(size) reads size bytes (or the entire file if size omitted) into a single string.\n",
        "\n",
        "  readline() returns one line up to and including the newline character, useful for streaming large files line-by-line.\n",
        "\n",
        "\n",
        "21. What is the logging module in Python used for?\n",
        "\n",
        " Ans: Central facility to create logger objects, set severity levels, attach handlers (console, file, HTTP, syslog), and define formatters, enabling fine-grained, hierarchical logging across libraries.\n",
        "\n",
        "22. What is the os module in Python used for in file handling?\n",
        "\n",
        " Ans: Path and directory operations (os.path.join, os.listdir, os.makedirs), metadata (os.stat, os.rename, os.remove), permission changes, environment variables, and process control.\n",
        "\n",
        "23. What are the challenges associated with memory management in Python?\n",
        "\n",
        " Ans:\n",
        " * Reference cycles requiring extra GC passes\n",
        " * Memory overhead for many small objects\n",
        " * Fragmentation inside arenas (pymalloc)\n",
        " * Native extensions holding non-Python resources that the GC can't see\n",
        "\n",
        "24. How do you raise an exception manually in Python.\n",
        "\n",
        " Ans: To manually raise an exception in Python, use the raise keyword. This allows for the explicit triggering of an exception at a specific point in the code.\n",
        "\n",
        " raise ValueError(\"Optional error message\")\n",
        "\n",
        " * raise keyword: This keyword is used to initiate the exception.\n",
        " * ValueError: This specifies the type of exception to be raised. Custom exception classes can also be defined by inheriting from Exception.\n",
        " * \"Optional error message\": A string providing a descriptive message about the error can be included. This message is helpful for debugging and understanding the cause of the exception.\n",
        "\n",
        "25. Why is it important to use multithreading in certain applications?\n",
        "\n",
        " Ans: For I/O-bound workloads (networking, disk, GUI), threads can overlap waiting time, boosting responsiveness and throughput without the overhead of spawning multiple processes."
      ],
      "metadata": {
        "id": "DXHvxPCQvvnK"
      }
    },
    {
      "cell_type": "markdown",
      "source": [
        "#Practical Questions"
      ],
      "metadata": {
        "id": "kH9DCl8_vvql"
      }
    },
    {
      "cell_type": "code",
      "source": [
        "# Q1.  How can you open a file for writing in Python and write a string to it.\n",
        "with open('file.txt', 'w') as f:\n",
        "  f.write(\"Varsha\")"
      ],
      "metadata": {
        "id": "1SmFHI7a107f"
      },
      "execution_count": null,
      "outputs": []
    },
    {
      "cell_type": "code",
      "source": [
        "# Q2.  Write a Python program to read the contents of a file and print each line?\n",
        "dummy_text = \"\"\"Life is like riding a bicycle.\n",
        "To keep your balance, you must keep moving.\n",
        "Believe in yourself and all that you are.\n",
        "Every day is a new beginning.\"\"\"\n",
        "with open(\"example.txt\", \"w\") as file:\n",
        "    file.write(dummy_text)\n",
        "with open(\"example.txt\",\"r\") as f:\n",
        "   for line in f:\n",
        "        print(line)"
      ],
      "metadata": {
        "id": "YOl8mWJA3hSa",
        "colab": {
          "base_uri": "https://localhost:8080/"
        },
        "outputId": "e44605e5-fb14-40b7-879c-70bfcdc6e2f5"
      },
      "execution_count": null,
      "outputs": [
        {
          "output_type": "stream",
          "name": "stdout",
          "text": [
            "Life is like riding a bicycle.\n",
            "\n",
            "To keep your balance, you must keep moving.\n",
            "\n",
            "Believe in yourself and all that you are.\n",
            "\n",
            "Every day is a new beginning.\n"
          ]
        }
      ]
    },
    {
      "cell_type": "code",
      "source": [
        "# Q3.  How would you handle a case where the file doesn't exist while trying to open it for reading.\n",
        "try:\n",
        "  f=open(\"ex.txt\", \"r\")\n",
        "except Exception as e:\n",
        "  print(\"Issue\",e)"
      ],
      "metadata": {
        "id": "4Tsz7jpb3hOd",
        "colab": {
          "base_uri": "https://localhost:8080/"
        },
        "outputId": "8cd5ea8c-7d55-4f2a-91a7-72c7f242abd6"
      },
      "execution_count": null,
      "outputs": [
        {
          "output_type": "stream",
          "name": "stdout",
          "text": [
            "Issue [Errno 2] No such file or directory: 'ex.txt'\n"
          ]
        }
      ]
    },
    {
      "cell_type": "code",
      "source": [
        "# Q4.  Write a Python script that reads from one file and writes its content to another file?\n",
        "with open(\"example.txt\", \"r\") as source_file:\n",
        "    # Read the content of the source file\n",
        "    content = source_file.read()\n",
        "\n",
        "# Open the destination file in write mode\n",
        "with open(\"destination.txt\", \"w\") as destination_file:\n",
        "    # Write the content to the destination file\n",
        "    destination_file.write(content)\n",
        "\n",
        "print(\"File copied successfully!\")"
      ],
      "metadata": {
        "id": "-n0XO7XK3afn",
        "colab": {
          "base_uri": "https://localhost:8080/"
        },
        "outputId": "12dc8201-6edf-4e4e-9fe2-68abdd9dbe10"
      },
      "execution_count": null,
      "outputs": [
        {
          "output_type": "stream",
          "name": "stdout",
          "text": [
            "File copied successfully!\n"
          ]
        }
      ]
    },
    {
      "cell_type": "code",
      "source": [
        "# Q5.  How would you catch and handle division by zero error in Python.\n",
        "try:\n",
        "    # risky operation\n",
        "    result = 10 / 0\n",
        "except ZeroDivisionError:\n",
        "    print(\"Error: Division by zero is not allowed.\")\n",
        "else:\n",
        "    print(\"Result:\", result)\n",
        "finally:\n",
        "    print(\"This block always executes.\")\n"
      ],
      "metadata": {
        "id": "aR6LKB--3acp",
        "colab": {
          "base_uri": "https://localhost:8080/"
        },
        "outputId": "97fb543c-6509-4996-eb38-9fa765ba1917"
      },
      "execution_count": null,
      "outputs": [
        {
          "output_type": "stream",
          "name": "stdout",
          "text": [
            "Error: Division by zero is not allowed.\n",
            "This block always executes.\n"
          ]
        }
      ]
    },
    {
      "cell_type": "code",
      "source": [
        "# Q6.  Write a Python program that logs an error message to a log file when a division by zero exception occurs.\n",
        "import logging\n",
        "\n",
        "# Configure the logging\n",
        "logging.basicConfig(filename='error_log.txt', level=logging.ERROR,\n",
        "                    format='%(asctime)s - %(levelname)s - %(message)s')\n",
        "\n",
        "try:\n",
        "    # Risky division operation\n",
        "    result = 10 / 0\n",
        "except ZeroDivisionError as e:\n",
        "    # Log the error message to the log file\n",
        "    logging.error(f\"Error occurred: {e}\")\n",
        "    print(\"An error occurred. Check the log file for details.\")"
      ],
      "metadata": {
        "id": "S3-aDRo43aZ0",
        "colab": {
          "base_uri": "https://localhost:8080/"
        },
        "outputId": "0e98f526-aee6-40f0-cce3-bbccdb3f5db6"
      },
      "execution_count": null,
      "outputs": [
        {
          "output_type": "stream",
          "name": "stderr",
          "text": [
            "ERROR:root:Error occurred: division by zero\n"
          ]
        },
        {
          "output_type": "stream",
          "name": "stdout",
          "text": [
            "An error occurred. Check the log file for details.\n"
          ]
        }
      ]
    },
    {
      "cell_type": "code",
      "source": [
        "# Q7.  How do you log information at different levels (INFO, ERROR, WARNING) in Python using the logging module.\n",
        "import logging\n",
        "\n",
        "# Configure the logging\n",
        "logging.basicConfig(filename='app.log', level=logging.DEBUG,\n",
        "                    format='%(asctime)s - %(levelname)s - %(message)s')\n",
        "\n",
        "# Log messages at different levels\n",
        "logging.debug(\"This is a DEBUG message – for debugging info.\")\n",
        "logging.info(\"This is an INFO message – general flow of the app.\")\n",
        "logging.warning(\"This is a WARNING – something unexpected happened.\")\n",
        "logging.error(\"This is an ERROR – something went wrong.\")\n",
        "logging.critical(\"This is a CRITICAL message – major failure!\")"
      ],
      "metadata": {
        "id": "RbPv5mow3Sg8",
        "colab": {
          "base_uri": "https://localhost:8080/"
        },
        "outputId": "438e8042-b929-421f-c576-9a475a446cfc"
      },
      "execution_count": null,
      "outputs": [
        {
          "output_type": "stream",
          "name": "stderr",
          "text": [
            "WARNING:root:This is a WARNING – something unexpected happened.\n",
            "ERROR:root:This is an ERROR – something went wrong.\n",
            "CRITICAL:root:This is a CRITICAL message – major failure!\n"
          ]
        }
      ]
    },
    {
      "cell_type": "code",
      "source": [
        "# Q8.  Write a program to handle a file opening error using exception handling?\n",
        "try:\n",
        "    # Attempt to open a file that may not exist\n",
        "    with open(\"non_existent_file.txt\", \"r\") as file:\n",
        "        content = file.read()\n",
        "        print(content)\n",
        "\n",
        "except FileNotFoundError:\n",
        "    print(\"Error: The file was not found.\")\n",
        "\n",
        "except PermissionError:\n",
        "    print(\"Error: You do not have permission to access this file.\")\n",
        "\n",
        "except Exception as e:\n",
        "    print(f\"An unexpected error occurred: {e}\")\n",
        "\n",
        "finally:\n",
        "    print(\"File handling attempt complete.\")"
      ],
      "metadata": {
        "id": "9qYqiAWZ3SdF",
        "colab": {
          "base_uri": "https://localhost:8080/"
        },
        "outputId": "dbf4e595-04c1-446f-d3c3-6160e4d26de2"
      },
      "execution_count": null,
      "outputs": [
        {
          "output_type": "stream",
          "name": "stdout",
          "text": [
            "Error: The file was not found.\n",
            "File handling attempt complete.\n"
          ]
        }
      ]
    },
    {
      "cell_type": "code",
      "source": [
        "# Q9.  How can you read a file line by line and store its content in a list in Python.\n",
        "with open(\"example.txt\", \"r\") as file:\n",
        "    lines = file.readlines()\n",
        "\n",
        "print(lines)\n"
      ],
      "metadata": {
        "id": "UWW6i2Im3Saj",
        "colab": {
          "base_uri": "https://localhost:8080/"
        },
        "outputId": "968d18a7-fc22-4e5b-ed8c-1953c7bd0db9"
      },
      "execution_count": null,
      "outputs": [
        {
          "output_type": "stream",
          "name": "stdout",
          "text": [
            "['Life is like riding a bicycle.\\n', 'To keep your balance, you must keep moving.\\n', 'Believe in yourself and all that you are.\\n', 'Every day is a new beginning.']\n"
          ]
        }
      ]
    },
    {
      "cell_type": "code",
      "source": [
        "# Q10.  How can you append data to an existing file in Python.\n",
        "# Open the file in append mode\n",
        "with open(\"example.txt\", \"a\") as file:\n",
        "    file.write(\"\\nThis is a new line being appended.\")\n"
      ],
      "metadata": {
        "id": "Yt-8eeRe3SXM"
      },
      "execution_count": null,
      "outputs": []
    },
    {
      "cell_type": "code",
      "source": [
        "# Q11.  Write a Python program that uses a try-except block to handle an error when attempting to access a dictionary key that doesn't exist?\n",
        "# Sample dictionary\n",
        "student = {\n",
        "    \"name\": \"Varsha\",\n",
        "    \"age\": 22\n",
        "}\n",
        "\n",
        "try:\n",
        "    # Attempt to access a key that may not exist\n",
        "    grade = student[\"grade\"]\n",
        "    print(\"Grade:\", grade)\n",
        "\n",
        "except KeyError as e:\n",
        "    print(f\"Error: The key {e} does not exist in the dictionary.\")"
      ],
      "metadata": {
        "id": "L2z36RGj3H8k",
        "colab": {
          "base_uri": "https://localhost:8080/"
        },
        "outputId": "d3db4ac4-5fd8-408c-d1f8-1bd9275a0a4d"
      },
      "execution_count": null,
      "outputs": [
        {
          "output_type": "stream",
          "name": "stdout",
          "text": [
            "Error: The key 'grade' does not exist in the dictionary.\n"
          ]
        }
      ]
    },
    {
      "cell_type": "code",
      "source": [
        "# Q12.  Write a program that demonstrates using multiple except blocks to handle different types of exceptions?\n",
        "try:\n",
        "    # Input from user\n",
        "    num = int(input(\"Enter a number: \"))\n",
        "\n",
        "    # Risky division operation\n",
        "    result = 10 / num\n",
        "    print(\"Result:\", result)\n",
        "\n",
        "except ZeroDivisionError:\n",
        "    print(\"Error: You cannot divide by zero.\")\n",
        "\n",
        "except ValueError:\n",
        "    print(\"Error: Please enter a valid integer.\")\n",
        "\n",
        "except Exception as e:\n",
        "    print(f\"An unexpected error occurred: {e}\")\n",
        "\n",
        "finally:\n",
        "    print(\"Program execution completed.\")"
      ],
      "metadata": {
        "id": "3XeRzoE33Hyk",
        "colab": {
          "base_uri": "https://localhost:8080/"
        },
        "outputId": "7007488d-6fbc-492f-b2cf-6694bb626c24"
      },
      "execution_count": null,
      "outputs": [
        {
          "output_type": "stream",
          "name": "stdout",
          "text": [
            "Enter a number: d\n",
            "Error: Please enter a valid integer.\n",
            "Program execution completed.\n"
          ]
        }
      ]
    },
    {
      "cell_type": "code",
      "source": [
        "# Q13.  How would you check if a file exists before attempting to read it in Python.\n",
        "import os\n",
        "\n",
        "file_path = \"example.txt\"\n",
        "\n",
        "if os.path.exists(file_path):\n",
        "    with open(file_path, \"r\") as file:\n",
        "        content = file.read()\n",
        "        print(content)\n",
        "else:\n",
        "    print(\"File does not exist.\")"
      ],
      "metadata": {
        "id": "7evZHYRQ3Hu1",
        "colab": {
          "base_uri": "https://localhost:8080/"
        },
        "outputId": "6ca9e706-1cee-4369-90d0-1fa28335d0e9"
      },
      "execution_count": null,
      "outputs": [
        {
          "output_type": "stream",
          "name": "stdout",
          "text": [
            "Life is like riding a bicycle.\n",
            "To keep your balance, you must keep moving.\n",
            "Believe in yourself and all that you are.\n",
            "Every day is a new beginning.\n",
            "This is a new line being appended.\n"
          ]
        }
      ]
    },
    {
      "cell_type": "code",
      "source": [
        "# Q14.  Write a program that uses the logging module to log both informational and error messages?\n",
        "import logging\n",
        "\n",
        "# Configure logging\n",
        "logging.basicConfig(\n",
        "    filename='app_log.txt',  # Log file name\n",
        "    level=logging.INFO,      # Minimum log level to capture\n",
        "    format='%(asctime)s - %(levelname)s - %(message)s'\n",
        ")\n",
        "\n",
        "# Log an informational message\n",
        "logging.info(\"Program started successfully.\")\n",
        "\n",
        "try:\n",
        "    # Risky operation\n",
        "    num = int(input(\"Enter a number to divide 100 by: \"))\n",
        "    result = 100 / num\n",
        "    logging.info(f\"Division successful. Result = {result}\")\n",
        "except ZeroDivisionError:\n",
        "    logging.error(\"Attempted to divide by zero.\")\n",
        "except ValueError:\n",
        "    logging.error(\"Invalid input: Not an integer.\")\n",
        "except Exception as e:\n",
        "    logging.error(f\"Unexpected error: {e}\")\n",
        "\n",
        "print(\"Check 'app_log.txt' for log details.\")"
      ],
      "metadata": {
        "id": "DK-QpXvr3HsC",
        "colab": {
          "base_uri": "https://localhost:8080/"
        },
        "outputId": "a7431b65-54c5-4556-a652-a1b8c32c0cbd"
      },
      "execution_count": null,
      "outputs": [
        {
          "name": "stdout",
          "output_type": "stream",
          "text": [
            "Enter a number to divide 100 by: 0\n"
          ]
        },
        {
          "output_type": "stream",
          "name": "stderr",
          "text": [
            "ERROR:root:Attempted to divide by zero.\n"
          ]
        },
        {
          "output_type": "stream",
          "name": "stdout",
          "text": [
            "Check 'app_log.txt' for log details.\n"
          ]
        }
      ]
    },
    {
      "cell_type": "code",
      "source": [
        "# Q15.  Write a Python program that prints the content of a file and handles the case when the file is empty?\n",
        "def print_file_content(filename):\n",
        "    try:\n",
        "        with open(filename, 'r') as file:\n",
        "            content = file.read()\n",
        "            if content.strip() == \"\":\n",
        "                print(\"The file is empty.\")\n",
        "            else:\n",
        "                print(\"File content:\")\n",
        "                print(content)\n",
        "    except FileNotFoundError:\n",
        "        print(f\"Error: The file '{filename}' does not exist.\")\n",
        "    except Exception as e:\n",
        "        print(f\"An unexpected error occurred: {e}\")\n",
        "\n",
        "# Example usage\n",
        "print_file_content(\"ex.txt\")"
      ],
      "metadata": {
        "id": "AaAWhYjw3HpM",
        "colab": {
          "base_uri": "https://localhost:8080/"
        },
        "outputId": "44340742-9fe3-4dc6-9732-a5bf7b0499bb"
      },
      "execution_count": null,
      "outputs": [
        {
          "output_type": "stream",
          "name": "stdout",
          "text": [
            "Error: The file 'ex.txt' does not exist.\n"
          ]
        }
      ]
    },
    {
      "cell_type": "code",
      "source": [
        "# Q16.  Demonstrate how to use memory profiling to check the memory usage of a small program.\n",
        "!pip install memory-profiler"
      ],
      "metadata": {
        "id": "hARqufnK3A3b",
        "colab": {
          "base_uri": "https://localhost:8080/"
        },
        "outputId": "a642beaa-0468-4e1f-9b4a-d21ddbaa818d"
      },
      "execution_count": 4,
      "outputs": [
        {
          "output_type": "stream",
          "name": "stdout",
          "text": [
            "Requirement already satisfied: memory-profiler in /usr/local/lib/python3.11/dist-packages (0.61.0)\n",
            "Requirement already satisfied: psutil in /usr/local/lib/python3.11/dist-packages (from memory-profiler) (5.9.5)\n"
          ]
        }
      ]
    },
    {
      "cell_type": "code",
      "source": [
        "from memory_profiler import profile\n",
        "import time\n",
        "\n",
        "@profile\n",
        "def create_large_list():\n",
        "   print(\"Creating a list of 10 million integers...\")\n",
        "   my_list= list(range(10_000_000))\n",
        "   print(f\"List size: {len(my_list)} elements.\") #Keep the list in scope for memory profiler to track\n",
        "   #Otherwise, it might be garbage collected too quickly\n",
        "   time.sleep(1) #Keep it alive briefly for profiling\n",
        "   del my_list # Explicitly delete to show memory release\n",
        "\n",
        "@profile\n",
        "def create_large_string():\n",
        "   print(\"Creating a large string (10MB)...\")\n",
        "   long_string= \"A\"*(10*1024*1024) # 10 MB string\n",
        "   print(f\"String length: {len(long_string)} characters.\")\n",
        "   time.sleep(1)\n",
        "   del long_string\n",
        "\n",
        "if __name__==\"__main__\":\n",
        "   print(\"--- Memory Usage Test ---\")\n",
        "   create_large_list()\n",
        "   print(\"\\n\")\n",
        "   create_large_string()\n",
        "   print(\"\\n--- Memory Usage Test Complete...\")"
      ],
      "metadata": {
        "colab": {
          "base_uri": "https://localhost:8080/"
        },
        "id": "_p-MSsI5Ojcf",
        "outputId": "764ba18a-b412-49a6-8836-81ce9d7ce086"
      },
      "execution_count": 8,
      "outputs": [
        {
          "output_type": "stream",
          "name": "stdout",
          "text": [
            "--- Memory Usage Test ---\n",
            "ERROR: Could not find file /tmp/ipython-input-8-2026899423.py\n",
            "Creating a list of 10 million integers...\n",
            "List size: 10000000 elements.\n",
            "\n",
            "\n",
            "ERROR: Could not find file /tmp/ipython-input-8-2026899423.py\n",
            "Creating a large string (10MB)...\n",
            "String length: 10485760 characters.\n",
            "\n",
            "--- Memory Usage Test Complete...\n"
          ]
        }
      ]
    },
    {
      "cell_type": "code",
      "source": [
        "# Q17.  Write a Python program to create and write a list of numbers to a file, one number per line?\n",
        "# List of numbers\n",
        "numbers = [10, 20, 30, 40, 50]\n",
        "\n",
        "# Open file in write mode\n",
        "with open(\"numbers.txt\", \"w\") as file:\n",
        "    for num in numbers:\n",
        "        file.write(f\"{num}\\n\")  # Write each number followed by a newline\n",
        "\n",
        "print(\"Numbers written to 'numbers.txt' successfully.\")"
      ],
      "metadata": {
        "id": "NGNVEqPY3Apa",
        "colab": {
          "base_uri": "https://localhost:8080/"
        },
        "outputId": "9e66d976-39cb-410a-fc6c-4b01865cb7e2"
      },
      "execution_count": null,
      "outputs": [
        {
          "output_type": "stream",
          "name": "stdout",
          "text": [
            "Numbers written to 'numbers.txt' successfully.\n"
          ]
        }
      ]
    },
    {
      "cell_type": "code",
      "source": [
        "# Q18.  How would you implement a basic logging setup that logs to a file with rotation after 1MB.\n",
        "\n",
        "import logging\n",
        "from logging.handlers import RotatingFileHandler\n",
        "\n",
        "# Create logger\n",
        "logger = logging.getLogger(\"my_logger\")\n",
        "logger.setLevel(logging.DEBUG)  # Set the logging level\n",
        "\n",
        "# Create a rotating file handler\n",
        "handler = RotatingFileHandler(\n",
        "    \"app.log\",        # Log file name\n",
        "    maxBytes=1 * 1024 * 1024,  # Rotate after 1MB\n",
        "    backupCount=5     # Keep up to 5 backup files (app.log.1, app.log.2, etc.)\n",
        ")\n",
        "\n",
        "# Create formatter and add to the handler\n",
        "formatter = logging.Formatter('%(asctime)s - %(levelname)s - %(message)s')\n",
        "handler.setFormatter(formatter)\n",
        "\n",
        "# Add the handler to the logger\n",
        "logger.addHandler(handler)\n",
        "\n",
        "# Example usage\n",
        "logger.debug(\"This is a debug message.\")\n",
        "logger.info(\"This is an info message.\")\n",
        "logger.warning(\"This is a warning.\")\n",
        "logger.error(\"This is an error message.\")\n",
        "logger.critical(\"This is critical.\")\n"
      ],
      "metadata": {
        "id": "CShAnlsG3AYx",
        "colab": {
          "base_uri": "https://localhost:8080/"
        },
        "outputId": "d3c99b04-00ed-4ada-a9a6-b406f32097e0"
      },
      "execution_count": 9,
      "outputs": [
        {
          "output_type": "stream",
          "name": "stderr",
          "text": [
            "DEBUG:my_logger:This is a debug message.\n",
            "INFO:my_logger:This is an info message.\n",
            "WARNING:my_logger:This is a warning.\n",
            "ERROR:my_logger:This is an error message.\n",
            "CRITICAL:my_logger:This is critical.\n"
          ]
        }
      ]
    },
    {
      "cell_type": "code",
      "source": [
        "# Q19.  Write a program that handles both IndexError and KeyError using a try-except block?\n",
        "# Sample list and dictionary\n",
        "my_list = [10, 20, 30]\n",
        "my_dict = {\"name\": \"Varsha\", \"age\": 22}\n",
        "\n",
        "try:\n",
        "    # Attempting to access invalid index\n",
        "    print(\"List value:\", my_list[5])\n",
        "\n",
        "    # Attempting to access missing dictionary key\n",
        "    print(\"Grade:\", my_dict[\"grade\"])\n",
        "\n",
        "except IndexError:\n",
        "    print(\"Error: List index out of range.\")\n",
        "\n",
        "except KeyError:\n",
        "    print(\"Error: Dictionary key not found.\")\n",
        "\n",
        "except Exception as e:\n",
        "    print(f\"An unexpected error occurred: {e}\")\n",
        "\n",
        "finally:\n",
        "    print(\"Exception handling complete.\")"
      ],
      "metadata": {
        "id": "9M6gFvAB3AVH",
        "colab": {
          "base_uri": "https://localhost:8080/"
        },
        "outputId": "3b1f2cbb-c16c-45c8-e163-e2b9cf81aaf4"
      },
      "execution_count": null,
      "outputs": [
        {
          "output_type": "stream",
          "name": "stdout",
          "text": [
            "Error: List index out of range.\n",
            "Exception handling complete.\n"
          ]
        }
      ]
    },
    {
      "cell_type": "code",
      "source": [
        "# Q20.  How would you open a file and read its contents using a context manager in Python.\n",
        "# Open and read a file using a context manager\n",
        "with open(\"example.txt\", \"r\") as file:\n",
        "    content = file.read()\n",
        "    print(content)"
      ],
      "metadata": {
        "id": "nkgCLsBF203T",
        "colab": {
          "base_uri": "https://localhost:8080/"
        },
        "outputId": "a8cd5761-79aa-405d-eb10-846afb6f6c53"
      },
      "execution_count": null,
      "outputs": [
        {
          "output_type": "stream",
          "name": "stdout",
          "text": [
            "Life is like riding a bicycle.\n",
            "To keep your balance, you must keep moving.\n",
            "Believe in yourself and all that you are.\n",
            "Every day is a new beginning.\n",
            "This is a new line being appended.\n"
          ]
        }
      ]
    },
    {
      "cell_type": "code",
      "source": [
        "# Q21.  Write a Python program that reads a file and prints the number of occurrences of a specific word?\n",
        "def count_word_occurrences(filename, word_to_count):\n",
        "    try:\n",
        "        with open(filename, 'r') as file:\n",
        "            content = file.read().lower()  # Read and convert to lowercase\n",
        "            word_to_count = word_to_count.lower()  # Convert search word to lowercase\n",
        "            word_list = content.split()  # Split content into words\n",
        "            count = word_list.count(word_to_count)\n",
        "            print(f\"The word '{word_to_count}' occurred {count} times in '{filename}'.\")\n",
        "    except FileNotFoundError:\n",
        "        print(f\"Error: File '{filename}' not found.\")\n",
        "    except Exception as e:\n",
        "        print(f\"An error occurred: {e}\")\n",
        "\n",
        "# Example usage\n",
        "count_word_occurrences(\"example.txt\", \"the\")"
      ],
      "metadata": {
        "id": "hD38-XLj20zz",
        "colab": {
          "base_uri": "https://localhost:8080/"
        },
        "outputId": "9f53302d-45df-4006-ca61-045e112a69e1"
      },
      "execution_count": null,
      "outputs": [
        {
          "output_type": "stream",
          "name": "stdout",
          "text": [
            "The word 'the' occurred 0 times in 'example.txt'.\n"
          ]
        }
      ]
    },
    {
      "cell_type": "code",
      "source": [
        "# Q22.  How can you check if a file is empty before attempting to read its contents.\n",
        "with open(\"example.txt\", \"r\") as file:\n",
        "    content = file.read()\n",
        "    if not content.strip():  # Check if content is empty or only whitespace\n",
        "        print(\"The file is empty.\")\n",
        "    else:\n",
        "        print(\"File content:\")\n",
        "        print(content)"
      ],
      "metadata": {
        "id": "I1aa08mO20oR",
        "colab": {
          "base_uri": "https://localhost:8080/"
        },
        "outputId": "75a8fe6b-9cc1-4aac-d04c-c11ea736e09f"
      },
      "execution_count": null,
      "outputs": [
        {
          "output_type": "stream",
          "name": "stdout",
          "text": [
            "File content:\n",
            "Life is like riding a bicycle.\n",
            "To keep your balance, you must keep moving.\n",
            "Believe in yourself and all that you are.\n",
            "Every day is a new beginning.\n",
            "This is a new line being appended.\n"
          ]
        }
      ]
    },
    {
      "cell_type": "code",
      "source": [
        "# Q23.  Write a Python program that writes to a log file when an error occurs during file handling.\n",
        "import logging\n",
        "\n",
        "# Configure logging to write errors to a log file\n",
        "logging.basicConfig(\n",
        "    filename='file_error.log',\n",
        "    level=logging.ERROR,\n",
        "    format='%(asctime)s - %(levelname)s - %(message)s'\n",
        ")\n",
        "\n",
        "def read_file(filename):\n",
        "    try:\n",
        "        with open(filename, 'r') as file:\n",
        "            content = file.read()\n",
        "            print(\"File content:\")\n",
        "            print(content)\n",
        "    except FileNotFoundError as e:\n",
        "        logging.error(f\"FileNotFoundError: {e}\")\n",
        "        print(\"Error: The file was not found.\")\n",
        "    except PermissionError as e:\n",
        "        logging.error(f\"PermissionError: {e}\")\n",
        "        print(\"Error: You don't have permission to read this file.\")\n",
        "    except Exception as e:\n",
        "        logging.error(f\"Unexpected error: {e}\")\n",
        "        print(\"An unexpected error occurred.\")\n",
        "\n",
        "# Example usage\n",
        "read_file(\"missing_file.txt\")"
      ],
      "metadata": {
        "id": "93DUjLi420kz",
        "colab": {
          "base_uri": "https://localhost:8080/"
        },
        "outputId": "6033e7d4-b3d6-4873-fd01-6af32777dbdf"
      },
      "execution_count": null,
      "outputs": [
        {
          "output_type": "stream",
          "name": "stderr",
          "text": [
            "ERROR:root:FileNotFoundError: [Errno 2] No such file or directory: 'missing_file.txt'\n"
          ]
        },
        {
          "output_type": "stream",
          "name": "stdout",
          "text": [
            "Error: The file was not found.\n"
          ]
        }
      ]
    },
    {
      "cell_type": "code",
      "source": [],
      "metadata": {
        "id": "4zsvF1UY20hr"
      },
      "execution_count": null,
      "outputs": []
    },
    {
      "cell_type": "code",
      "source": [],
      "metadata": {
        "id": "sef-6-AD20fn"
      },
      "execution_count": null,
      "outputs": []
    },
    {
      "cell_type": "code",
      "source": [],
      "metadata": {
        "id": "eG87CYAg20bN"
      },
      "execution_count": null,
      "outputs": []
    }
  ]
}