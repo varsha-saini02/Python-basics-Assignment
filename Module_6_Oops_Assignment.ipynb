{
  "nbformat": 4,
  "nbformat_minor": 0,
  "metadata": {
    "colab": {
      "provenance": []
    },
    "kernelspec": {
      "name": "python3",
      "display_name": "Python 3"
    },
    "language_info": {
      "name": "python"
    }
  },
  "cells": [
    {
      "cell_type": "markdown",
      "source": [
        "#Theory Questions\n"
      ],
      "metadata": {
        "id": "DFy2FhGaav2s"
      }
    },
    {
      "cell_type": "markdown",
      "source": [
        "1. What is Object-Oriented Programming (OOP)?\n",
        "\n",
        " Ans: Object-Oriented Programming (OOP) is a programming paradigm that uses \"objects\" to model real-world entities. These objects encapsulate data and the methods that operate on that data. The four main principles of OOP are encapsulation, abstraction, inheritance, and polymorphism.\n",
        "2. What is a class in OOP?\n",
        "\n",
        " Ans:A class in OOP is a blueprint for creating objects. It defines attributes (data) and methods (functions) that the created objects (instances) will have. For example:\n",
        "\n",
        "        class Dog:\n",
        "           def __init__(self, name):\n",
        "              self.name = name\n",
        "           def bark(self):\n",
        "              print(\"Woof!\")\n",
        "\n",
        "3. What is an object in OOP?\n",
        "\n",
        " Ans: An object is an instance of a class. It represents a specific implementation with actual values for the attributes defined in the class.\n",
        "\n",
        "4. What is the difference between abstraction and encapsulation?\n",
        "\n",
        " Ans: Abstraction hides complex implementation details and shows only the essential features.\n",
        "\n",
        "   Encapsulation binds data and methods into a single unit and restricts access to some of the object's components.\n",
        "\n",
        "5. What are dunder methods in Python?\n",
        "\n",
        " Ans: Dunder (double underscore) methods are special methods in Python like __init__, __str__, and __len__, used to define behaviors for objects like construction, printing, and length.\n",
        "\n",
        "6. Explain the concept of inheritance in OOP.\n",
        "\n",
        " Ans:Inheritance allows a class to inherit attributes and methods from another class. This helps reuse code and establish relationships between classes.\n",
        "\n",
        "       class Animal:\n",
        "         def speak(self):\n",
        "             print(\"Animal speaks\")\n",
        "             \n",
        "       class Dog(Animal):\n",
        "         def speak(self):\n",
        "             print(\"Bark!\")\n",
        "\n",
        "7. What is polymorphism in OOP?\n",
        "\n",
        " Ans:Polymorphism allows objects of different classes to be treated as instances of the same class through a common interface.\n",
        "\n",
        "         class Bird:\n",
        "            def fly(self):\n",
        "                print(\"Bird flies\")\n",
        "                \n",
        "         class Sparrow(Bird):\n",
        "            def fly(self):\n",
        "                print(\"Sparrow flies\")\n",
        "8. How is encapsulation achieved in Python.\n",
        "\n",
        " Ans:By using private variables (prefixing with _ or __) and providing getter and setter methods to control access.\n",
        "\n",
        "       class Bank:\n",
        "          def __init__(self):\n",
        "           self.__balance = 0\n",
        "          def deposit(self, amount):\n",
        "           self.__balance += amount\n",
        "\n",
        "9. What is a constructor in Python?\n",
        "\n",
        " Ans:The __init__ method in a class is a constructor that initializes object attributes when an object is created.\n",
        "\n",
        "10. What are class and static methods in Python?\n",
        "\n",
        " Ans:\n",
        " @classmethod: Takes cls as the first argument and can modify class state.\n",
        "\n",
        " @staticmethod: Does not take self or cls, behaves like a regular function within a class.\n",
        "\n",
        "11. What is method overloading in Python?\n",
        "\n",
        " Ans: Python does not support traditional method overloading. Instead, we use default arguments or *args/**kwargs.\n",
        "\n",
        "12. What is method overriding in OOP?\n",
        "\n",
        " Ans: Method overriding occurs when a subclass provides a specific implementation of a method already defined in its parent class.\n",
        "13. What is a property decorator in Python?\n",
        "\n",
        " Ans: @property is used to define a method as a property, allowing method access like an attribute.\n",
        "14. Why is polymorphism important in OOP?\n",
        "\n",
        " Ans: Polymorphism increases flexibility and reusability of code, allowing different classes to be treated uniformly.\n",
        "\n",
        "15. What is an abstract class in Python?\n",
        "\n",
        " Ans: An abstract class cannot be instantiated and may have abstract methods. It is defined using the abc module.\n",
        "16. What are the advantages of OOP?\n",
        "\n",
        " Ans:\n",
        " * Reusability through inheritance\n",
        " * Modularity via encapsulation\n",
        " * Flexibility with polymorphism\n",
        " * Maintainability\n",
        "\n",
        "17. What is multiple inheritance in Python?\n",
        "\n",
        " Ans:\n",
        "\n",
        " 1. Class Variable\n",
        "\n",
        "    Shared across all instances of the class.\n",
        "\n",
        "    Defined inside the class but outside any methods.\n",
        "\n",
        "    Changing a class variable affects all instances (unless it's shadowed by an instance variable).\n",
        "   \n",
        "   \n",
        "      class Dog:\n",
        "         species = \"Canine\"  # class variable\n",
        "         def __init__(self, name):\n",
        "            self.name = name  # instance variable\n",
        "\n",
        "\n",
        "\n",
        "2. Instance Variable\n",
        "    Unique to each instance of the class.\n",
        "     \n",
        "    Usually defined using self inside the __init__ method (or other methods).\n",
        "\n",
        "    Changing an instance variable only affects that specific instance.\n",
        "\n",
        "       dog1 = Dog(\"Fido\")\n",
        "       dog2 = Dog(\"Buddy\")\n",
        "       dog1.name = \"Max\"  # only changes dog1's name\n",
        "       Dog.species = \"Doggo\"  # changes species for all instances\n",
        "\n",
        "\n",
        "18. What is the difference between a class variable and an instance variable?\n",
        "\n",
        " Ans:\n",
        "\n",
        " Multiple inheritance in Python means a class can inherit attributes and methods from more than one parent class.\n",
        "\n",
        "\n",
        "      class A:\n",
        "       def speak(self):\n",
        "         print(\"A speaks\")\n",
        "      \n",
        "      class B:\n",
        "       def talk(self):\n",
        "        print(\"B talks\")\n",
        "      \n",
        "      class C(A, B):  # Multiple inheritance\n",
        "          pass\n",
        "\n",
        "       obj = C()\n",
        "       obj.speak()  # From class A\n",
        "       obj.talk()   # From class B\n",
        "\n",
        "\n",
        "19. Explain the purpose of '__str__' and '__repr__'  methods in Python.\n",
        "\n",
        " Ans:\n",
        "   The __str__ and __repr__ methods in Python are special methods used to define how an object is represented as a string.\n",
        "\n",
        "🔹 __str__: User-Friendly String\n",
        "   * Called by str(object) and the print() function.\n",
        "   * Should return a readable, user-friendly string.\n",
        "   * Purpose: Representation for end users.\n",
        "\n",
        "🔹 __repr__: Developer-Friendly String\n",
        "   * Called by repr(object) or when you type the object name in an interactive shell.\n",
        "   * Should return a precise, unambiguous string—ideally valid Python code.\n",
        "   * Purpose: Debugging and developer representation.\n",
        "\n",
        "20. What is the significance of the 'super()' function in Python?\n",
        "\n",
        " Ans:\n",
        "   The super() function in Python is used to call methods from a parent or sibling class. It's especially important in inheritance, including multiple inheritance, to ensure proper method resolution and to avoid redundancy.\n",
        "\n",
        "    🔹 Key Uses of super():\n",
        "   \n",
        "    * Access parent class methods without hardcoding the parent class name.\n",
        "    * Maintain the method resolution order (MRO) in complex inheritance structures.\n",
        "    * Avoid duplicate code and improve maintainability.\n",
        "\n",
        "          class Parent:\n",
        "             def greet(self):\n",
        "               print(\"Hello from Parent\")\n",
        "               \n",
        "          class Child(Parent):\n",
        "             def greet(self):\n",
        "               super().greet()  # Calls Parent.greet()\n",
        "                print(\"Hello from Child\")\n",
        "                \n",
        "          c = Child()\n",
        "          c.greet()\n",
        "\n",
        "21. What is the significance of the __del__ method in Python?\n",
        "\n",
        " Ans:\n",
        "  The __del__ method in Python is a destructor—it is called when an object is about to be destroyed, typically when there are no more references to it.\n",
        "\n",
        "   🔹 Purpose of __del__:\n",
        "\n",
        "       * Used to perform cleanup actions like:\n",
        "\n",
        "          * Closing files\n",
        "\n",
        "          * Releasing network connections\n",
        "       \n",
        "          * Deleting temporary resources\n",
        "\n",
        "       * It gives you a chance to define custom teardown behavior for your objects.\n",
        "\n",
        "22. What is the difference between @staticmethod and @classmethod in Python?\n",
        "\n",
        " Ans:\n",
        "\n",
        " The difference between @staticmethod and @classmethod in Python lies in what they receive as the first argument and how they interact with the class.\n",
        "\n",
        "🔹 @staticmethod\n",
        "\n",
        "   * Does not take self or cls as the first parameter.\n",
        "   * Behaves like a regular function, just lives inside the class for organization.\n",
        "   * Can't access or modify class or instance state.\n",
        "\n",
        "🔹 @classmethod\n",
        "\n",
        "   * Takes cls (the class itself) as the first argument.\n",
        "   * Can access and modify class-level state.\n",
        "   * Often used for alternative constructors.\n",
        "\n",
        "\n",
        "23. How does polymorphism work in Python with inheritance?\n",
        "\n",
        " Ans:\n",
        " Objects of different classes can be treated as objects of a common base class, especially when they share the same method name, allowing the correct method to be called dynamically at runtime.\n",
        "\n",
        "🔹 How it works:\n",
        "\n",
        "   * Python uses dynamic (runtime) method resolution.\n",
        "   * Even if a variable is typed as the base class, Python checks the actual object type to decide which method to run.\n",
        "\n",
        "\n",
        "24. What is method chaining in Python OOP?\n",
        "\n",
        " Ans:\n",
        "   Method chaining is a technique where multiple method calls are linked together in a single statement, by having each method return self.\n",
        "\n",
        "🔹 How it Works:\n",
        " * Each method performs some action and then returns the same object (self) so that the next method can be called on it.\n",
        "\n",
        "25. What is the purpose of the __call__ method in Python?\n",
        "\n",
        " Ans:\n",
        "\n",
        "  🔹 __call__ method in Python\n",
        "\n",
        "    The __call__ method lets an object behave like a function—meaning you can \"call\" an instance as if it were a function.\n",
        "\n",
        "    Purpose:\n",
        "    \n",
        "    To allow instances of a class to be invoked like functions by defining custom behavior when the object is called using parentheses ()."
      ],
      "metadata": {
        "id": "DqK8gBJIayZM"
      }
    },
    {
      "cell_type": "markdown",
      "source": [
        "#Practical Questions\n"
      ],
      "metadata": {
        "id": "zJZeNU-PdrO4"
      }
    },
    {
      "cell_type": "code",
      "execution_count": 1,
      "metadata": {
        "id": "EwEXVTZHac1u",
        "colab": {
          "base_uri": "https://localhost:8080/"
        },
        "outputId": "983c0d62-dcd6-4f39-c76a-fb7f104ab9ed"
      },
      "outputs": [
        {
          "output_type": "stream",
          "name": "stdout",
          "text": [
            "Bark!\n"
          ]
        }
      ],
      "source": [
        "#Q1. Create a parent class Animal with a method speak() that prints a generic message.\n",
        "#Create a child class Dog that overrides the speak() method to print \"Bark!\".\n",
        "class Animal:\n",
        "    def speak(self):\n",
        "        print(\"Animal speaks...\")\n",
        "\n",
        "class Dog(Animal):\n",
        "    def speak(self):\n",
        "        print(\"Bark!\")\n",
        "\n",
        "d = Dog()\n",
        "d.speak()"
      ]
    },
    {
      "cell_type": "code",
      "source": [
        "#Q2. Write a program to create an abstract class Shape with a method area(). Derive classes Circle and Rectangle\n",
        "#from it and implement the area() method in both.\n",
        "from abc import ABC, abstractmethod\n",
        "class Shape(ABC):\n",
        "    @abstractmethod\n",
        "    def area(self):\n",
        "        pass\n",
        "\n",
        "class Circle(Shape):\n",
        "    def __init__(self, radius):\n",
        "        self.radius = radius\n",
        "\n",
        "    def area(self):\n",
        "        return 3.14 * self.radius * self.radius\n",
        "\n",
        "class Rectangle(Shape):\n",
        "    def __init__(self, width, height):\n",
        "        self.width = width\n",
        "        self.height = height\n",
        "\n",
        "    def area(self):\n",
        "        return self.width * self.height\n",
        "\n",
        "c = Circle(5)\n",
        "r = Rectangle(4, 6)\n",
        "print(c.area())\n",
        "print(r.area())"
      ],
      "metadata": {
        "id": "aF7tyHyRd4mw",
        "colab": {
          "base_uri": "https://localhost:8080/"
        },
        "outputId": "9996d5f2-d542-45ab-eb86-5e84c98782fc"
      },
      "execution_count": 2,
      "outputs": [
        {
          "output_type": "stream",
          "name": "stdout",
          "text": [
            "78.5\n",
            "24\n"
          ]
        }
      ]
    },
    {
      "cell_type": "code",
      "source": [
        "#Q3.Implement a multi-level inheritance scenario where a class Vehicle has an attribute type. Derive a class Car\n",
        "#and further derive a class ElectricCar that adds a battery attribute.\n",
        "\n",
        "class Vehicle:\n",
        "    def __init__(self, type):\n",
        "        self.type = type\n",
        "\n",
        "class Car(Vehicle):\n",
        "    def __init__(self, type, brand):\n",
        "        super().__init__(type)\n",
        "        self.brand = brand\n",
        "\n",
        "class ElectricCar(Car):\n",
        "    def __init__(self, type, brand, battery):\n",
        "        super().__init__(type, brand)\n",
        "        self.battery = battery\n",
        "\n",
        "e_car = ElectricCar(\"EV\", \"Tesla\", \"100 kWh\")\n",
        "print(e_car.type, e_car.brand, e_car.battery)"
      ],
      "metadata": {
        "id": "4P1S57dEeBOB",
        "colab": {
          "base_uri": "https://localhost:8080/"
        },
        "outputId": "521312cc-b97b-4dbf-8866-52bdbd213d8f"
      },
      "execution_count": 3,
      "outputs": [
        {
          "output_type": "stream",
          "name": "stdout",
          "text": [
            "EV Tesla 100 kWh\n"
          ]
        }
      ]
    },
    {
      "cell_type": "code",
      "source": [
        "#Q4. Demonstrate polymorphism by creating a base class Bird with a method fly(). Create two derived classes\n",
        "#Sparrow and Penguin that override the fly() method.\n",
        "class Bird:\n",
        "    def fly(self):\n",
        "        print(\"Bird is flying\")\n",
        "\n",
        "class Sparrow(Bird):\n",
        "    def fly(self):\n",
        "        print(\"Sparrow flies high\")\n",
        "\n",
        "class Penguin(Bird):\n",
        "    def fly(self):\n",
        "        print(\"Penguins can't fly\")\n",
        "\n",
        "for bird in [Sparrow(), Penguin()]:\n",
        "    bird.fly()"
      ],
      "metadata": {
        "id": "zAXK9X4keBK7",
        "colab": {
          "base_uri": "https://localhost:8080/"
        },
        "outputId": "185e16ec-b3a6-416f-f075-73004facec8e"
      },
      "execution_count": 4,
      "outputs": [
        {
          "output_type": "stream",
          "name": "stdout",
          "text": [
            "Sparrow flies high\n",
            "Penguins can't fly\n"
          ]
        }
      ]
    },
    {
      "cell_type": "code",
      "source": [
        "#Q5. Write a program to demonstrate encapsulation by creating a class BankAccount with private attributes\n",
        "#balance and methods to deposit, withdraw, and check balance.\n",
        "class BankAccount:\n",
        "    def __init__(self):\n",
        "        self.__balance = 0\n",
        "\n",
        "    def deposit(self, amount):\n",
        "        self.__balance += amount\n",
        "\n",
        "    def withdraw(self, amount):\n",
        "        if amount <= self.__balance:\n",
        "            self.__balance -= amount\n",
        "        else:\n",
        "            print(\"Insufficient balance\")\n",
        "\n",
        "    def get_balance(self):\n",
        "        return self.__balance\n",
        "\n",
        "acc = BankAccount()\n",
        "acc.deposit(1000)\n",
        "acc.withdraw(500)\n",
        "print(acc.get_balance())"
      ],
      "metadata": {
        "id": "CLIQGyoFeBIG",
        "colab": {
          "base_uri": "https://localhost:8080/"
        },
        "outputId": "27d3aa41-9c89-47bb-f18e-be56e7e45421"
      },
      "execution_count": 5,
      "outputs": [
        {
          "output_type": "stream",
          "name": "stdout",
          "text": [
            "500\n"
          ]
        }
      ]
    },
    {
      "cell_type": "code",
      "source": [
        "#Q6. Demonstrate runtime polymorphism using a method play() in a base class Instrument. Derive classes Guitar\n",
        "#and Piano that implement their own version of play().\n",
        "class Instrument:\n",
        "    def play(self):\n",
        "        print(\"Instrument is playing\")\n",
        "\n",
        "class Guitar(Instrument):\n",
        "    def play(self):\n",
        "        print(\"Guitar is playing\")\n",
        "\n",
        "class Piano(Instrument):\n",
        "    def play(self):\n",
        "        print(\"Piano is playing\")\n",
        "\n",
        "for inst in [Guitar(), Piano()]:\n",
        "    inst.play()"
      ],
      "metadata": {
        "id": "GVpLG9vreBFq",
        "colab": {
          "base_uri": "https://localhost:8080/"
        },
        "outputId": "3522a5e9-fcd9-44f1-ff89-c0525d88f137"
      },
      "execution_count": 6,
      "outputs": [
        {
          "output_type": "stream",
          "name": "stdout",
          "text": [
            "Guitar is playing\n",
            "Piano is playing\n"
          ]
        }
      ]
    },
    {
      "cell_type": "code",
      "source": [
        "#Q7. Create a class MathOperations with a class method add_numbers() to add two numbers and a static\n",
        "#method subtract_numbers() to subtract two numbers.\n",
        "class MathOperations:\n",
        "    @classmethod\n",
        "    def add_numbers(cls, a, b):\n",
        "        return a + b\n",
        "\n",
        "    @staticmethod\n",
        "    def subtract_numbers(a, b):\n",
        "        return a - b\n",
        "\n",
        "print(MathOperations.add_numbers(10, 5))\n",
        "print(MathOperations.subtract_numbers(10, 5))"
      ],
      "metadata": {
        "id": "54s1kXEGeBCZ",
        "colab": {
          "base_uri": "https://localhost:8080/"
        },
        "outputId": "8edff93a-1cce-4f57-ea4a-5d42bf54bd37"
      },
      "execution_count": 7,
      "outputs": [
        {
          "output_type": "stream",
          "name": "stdout",
          "text": [
            "15\n",
            "5\n"
          ]
        }
      ]
    },
    {
      "cell_type": "code",
      "source": [
        "#Q8. Implement a class Person with a class method to count the total number of persons created.\n",
        "class Person:\n",
        "    count = 0\n",
        "\n",
        "    def __init__(self):\n",
        "        Person.count += 1\n",
        "\n",
        "    @classmethod\n",
        "    def total_persons(cls):\n",
        "        return cls.count\n",
        "\n",
        "p1 = Person()\n",
        "p2 = Person()\n",
        "print(Person.total_persons())"
      ],
      "metadata": {
        "id": "uqIFra1IeA_F",
        "colab": {
          "base_uri": "https://localhost:8080/"
        },
        "outputId": "07ba5b12-7689-4b9f-91bd-0ae680ff977a"
      },
      "execution_count": 8,
      "outputs": [
        {
          "output_type": "stream",
          "name": "stdout",
          "text": [
            "2\n"
          ]
        }
      ]
    },
    {
      "cell_type": "code",
      "source": [
        "#Q9. Write a class Fraction with attributes numerator and denominator. Override the str method to display the\n",
        "#fraction as \"numerator/denominator\".\n",
        "class Fraction:\n",
        "    def __init__(self, numerator, denominator):\n",
        "        self.numerator = numerator\n",
        "        self.denominator = denominator\n",
        "\n",
        "    def __str__(self):\n",
        "        return f\"{self.numerator}/{self.denominator}\"\n",
        "\n",
        "f = Fraction(3, 4)\n",
        "print(f)"
      ],
      "metadata": {
        "id": "SxTKBQieeA8K",
        "colab": {
          "base_uri": "https://localhost:8080/"
        },
        "outputId": "e846e3cf-01e7-44a9-c800-aa7bb39771e3"
      },
      "execution_count": 9,
      "outputs": [
        {
          "output_type": "stream",
          "name": "stdout",
          "text": [
            "3/4\n"
          ]
        }
      ]
    },
    {
      "cell_type": "code",
      "source": [
        "#Q10. Demonstrate operator overloading by creating a class Vector and overriding the add method to add two vectors\n",
        "class Vector:\n",
        "    def __init__(self, x, y):\n",
        "        self.x = x\n",
        "        self.y = y\n",
        "\n",
        "    def __add__(self, other):\n",
        "        return Vector(self.x + other.x, self.y + other.y)\n",
        "\n",
        "    def __str__(self):\n",
        "        return f\"({self.x}, {self.y})\"\n",
        "\n",
        "v1 = Vector(1, 2)\n",
        "v2 = Vector(3, 4)\n",
        "print(v1 + v2)"
      ],
      "metadata": {
        "id": "ZfUBc0HweAek",
        "colab": {
          "base_uri": "https://localhost:8080/"
        },
        "outputId": "aaf25a2f-2554-4f5a-bd2e-f5eaeb8c4de1"
      },
      "execution_count": 10,
      "outputs": [
        {
          "output_type": "stream",
          "name": "stdout",
          "text": [
            "(4, 6)\n"
          ]
        }
      ]
    },
    {
      "cell_type": "code",
      "source": [
        "#Q11. Create a class Person with attributes name and age. Add a method greet() that prints \"Hello, my name is\n",
        "#{name} and I am {age} years old.\"\n",
        "class Person:\n",
        "    def __init__(self, name, age):\n",
        "        self.name = name\n",
        "        self.age = age\n",
        "\n",
        "    def greet(self):\n",
        "        print(f\"Hello, my name is {self.name} and I am {self.age} years old.\")\n",
        "\n",
        "p = Person(\"Abhijeet\", 22)\n",
        "p.greet()"
      ],
      "metadata": {
        "id": "HyI_gE5_eoQ6",
        "colab": {
          "base_uri": "https://localhost:8080/"
        },
        "outputId": "af9c09c0-dc02-4684-da58-e76cb78c718e"
      },
      "execution_count": 11,
      "outputs": [
        {
          "output_type": "stream",
          "name": "stdout",
          "text": [
            "Hello, my name is Abhijeet and I am 22 years old.\n"
          ]
        }
      ]
    },
    {
      "cell_type": "code",
      "source": [
        "#Q12. Implement a class Student with attributes name and grades. Create a method average_grade() to compute\n",
        "#the average of the grades.\n",
        "class Student:\n",
        "    def __init__(self, name, grades):\n",
        "        self.name = name\n",
        "        self.grades = grades\n",
        "\n",
        "    def average_grade(self):\n",
        "        return sum(self.grades) / len(self.grades)\n",
        "\n",
        "s = Student(\"Bob\", [80, 90, 70])\n",
        "print(s.average_grade())"
      ],
      "metadata": {
        "id": "5i47ToY-eoLg",
        "colab": {
          "base_uri": "https://localhost:8080/"
        },
        "outputId": "93f9fd4c-6782-4b80-cd9a-d35d6fd257f4"
      },
      "execution_count": 12,
      "outputs": [
        {
          "output_type": "stream",
          "name": "stdout",
          "text": [
            "80.0\n"
          ]
        }
      ]
    },
    {
      "cell_type": "code",
      "source": [
        "#Q13. Create a class Rectangle with methods set_dimensions() to set the dimensions and area() to calculate the area.\n",
        "class Rectangle:\n",
        "    def set_dimensions(self, width, height):\n",
        "        self.width = width\n",
        "        self.height = height\n",
        "\n",
        "    def area(self):\n",
        "        return self.width * self.height\n",
        "\n",
        "r = Rectangle()\n",
        "r.set_dimensions(5, 3)\n",
        "print(r.area())"
      ],
      "metadata": {
        "id": "32OZ58GDeoI2",
        "colab": {
          "base_uri": "https://localhost:8080/"
        },
        "outputId": "bbca6b5e-e113-4525-d617-9b8e8aa47625"
      },
      "execution_count": 13,
      "outputs": [
        {
          "output_type": "stream",
          "name": "stdout",
          "text": [
            "15\n"
          ]
        }
      ]
    },
    {
      "cell_type": "code",
      "source": [
        "#Q14. Create a class Employee with a method calculate_salary() that computes the salary based on hours worked\n",
        "#and hourly rate. Create a derived class Manager that adds a bonus to the salary.\n",
        "\n",
        "class Employee:\n",
        "    def calculate_salary(self, hours, rate):\n",
        "        return hours * rate\n",
        "\n",
        "class Manager(Employee):\n",
        "    def calculate_salary(self, hours, rate, bonus):\n",
        "        base = super().calculate_salary(hours, rate)\n",
        "        return base + bonus\n",
        "\n",
        "m = Manager()\n",
        "print(m.calculate_salary(40, 50, 1000))"
      ],
      "metadata": {
        "id": "qkjeWRTHeoGa",
        "colab": {
          "base_uri": "https://localhost:8080/"
        },
        "outputId": "8f815584-f44f-4b3e-8fbb-7c4ac980875f"
      },
      "execution_count": 14,
      "outputs": [
        {
          "output_type": "stream",
          "name": "stdout",
          "text": [
            "3000\n"
          ]
        }
      ]
    },
    {
      "cell_type": "code",
      "source": [
        "#Q15. Create a class Product with attributes name, price, and quantity. Implement a method total_price() that\n",
        "#calculates the total price of the product.\n",
        "class Product:\n",
        "    def __init__(self, name, price, quantity):\n",
        "        self.name = name\n",
        "        self.price = price\n",
        "        self.quantity = quantity\n",
        "\n",
        "    def total_price(self):\n",
        "        return self.price * self.quantity\n",
        "\n",
        "p = Product(\"Pen\", 10, 5)\n",
        "print(p.total_price())"
      ],
      "metadata": {
        "id": "24BAdk2aeoDh",
        "colab": {
          "base_uri": "https://localhost:8080/"
        },
        "outputId": "965f67b0-77b1-435b-91b8-22ba90f34010"
      },
      "execution_count": 15,
      "outputs": [
        {
          "output_type": "stream",
          "name": "stdout",
          "text": [
            "50\n"
          ]
        }
      ]
    },
    {
      "cell_type": "code",
      "source": [
        "#Q16. Create a class Animal with an abstract method sound(). Create two derived classes Cow and Sheep that\n",
        "#implement the sound() method.\n",
        "from abc import ABC, abstractmethod\n",
        "\n",
        "class Animal(ABC):\n",
        "    @abstractmethod\n",
        "    def sound(self):\n",
        "        pass\n",
        "\n",
        "class Cow(Animal):\n",
        "    def sound(self):\n",
        "        print(\"Moo\")\n",
        "\n",
        "class Sheep(Animal):\n",
        "    def sound(self):\n",
        "        print(\"Baa\")\n",
        "\n",
        "Cow().sound()\n",
        "Sheep().sound()"
      ],
      "metadata": {
        "id": "atC_hK1veoAp",
        "colab": {
          "base_uri": "https://localhost:8080/"
        },
        "outputId": "d0522eb2-627d-4655-f15e-afda23866e02"
      },
      "execution_count": 16,
      "outputs": [
        {
          "output_type": "stream",
          "name": "stdout",
          "text": [
            "Moo\n",
            "Baa\n"
          ]
        }
      ]
    },
    {
      "cell_type": "code",
      "source": [
        "#Q17. Create a class Book with attributes title, author, and year_published. Add a method get_book_info() that\n",
        "#returns a formatted string with the book's details.\n",
        "class Book:\n",
        "    def __init__(self, title, author, year_published):\n",
        "        self.title = title\n",
        "        self.author = author\n",
        "        self.year_published = year_published\n",
        "\n",
        "    def get_book_info(self):\n",
        "        return f\"{self.title} by {self.author}, published in {self.year_published}\"\n",
        "\n",
        "b = Book(\"1984\", \"George Orwell\", 1949)\n",
        "print(b.get_book_info())"
      ],
      "metadata": {
        "id": "LyUcCp6Jen9u",
        "colab": {
          "base_uri": "https://localhost:8080/"
        },
        "outputId": "68857f5a-e893-4ae9-da60-9019c454e674"
      },
      "execution_count": 17,
      "outputs": [
        {
          "output_type": "stream",
          "name": "stdout",
          "text": [
            "1984 by George Orwell, published in 1949\n"
          ]
        }
      ]
    },
    {
      "cell_type": "code",
      "source": [
        "#Q18. Create a class House with attributes address and price. Create a derived class Mansion that adds an\n",
        "#attribute number_of_rooms\n",
        "class House:\n",
        "    def __init__(self, address, price):\n",
        "        self.address = address\n",
        "        self.price = price\n",
        "\n",
        "class Mansion(House):\n",
        "    def __init__(self, address, price, number_of_rooms):\n",
        "        super().__init__(address, price)\n",
        "        self.number_of_rooms = number_of_rooms\n",
        "\n",
        "m = Mansion(\"Sector 116,Noida\", 7000000, 5)\n",
        "print(m.address, m.price, m.number_of_rooms)"
      ],
      "metadata": {
        "id": "AjB0MSAsen1B",
        "colab": {
          "base_uri": "https://localhost:8080/"
        },
        "outputId": "5873c4b0-9256-42df-a6f8-a2e2398ef66a"
      },
      "execution_count": 19,
      "outputs": [
        {
          "output_type": "stream",
          "name": "stdout",
          "text": [
            "Sector 116,Noida 7000000 5\n"
          ]
        }
      ]
    },
    {
      "cell_type": "code",
      "source": [],
      "metadata": {
        "id": "hQWmZHSGenyP"
      },
      "execution_count": null,
      "outputs": []
    }
  ]
}